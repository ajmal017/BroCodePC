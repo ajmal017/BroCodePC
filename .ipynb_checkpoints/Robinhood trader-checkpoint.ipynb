{
 "cells": [
  {
   "cell_type": "markdown",
   "metadata": {},
   "source": [
    "## Robinhood (Sanko) system setup"
   ]
  },
  {
   "cell_type": "code",
   "execution_count": null,
   "metadata": {},
   "outputs": [],
   "source": [
    "import sys\n",
    "sys.path.insert(0, '/Users/chingaling/Documents/GitHub/Robinhood')\n",
    "from Robinhood import Robinhood\n",
    "\n",
    "import pandas as pd\n",
    "import math\n",
    "import time"
   ]
  },
  {
   "cell_type": "code",
   "execution_count": null,
   "metadata": {},
   "outputs": [],
   "source": [
    "lot_size = 5000\n",
    "target = 1.01"
   ]
  },
  {
   "cell_type": "code",
   "execution_count": null,
   "metadata": {},
   "outputs": [],
   "source": [
    "#Setup\n",
    "rob = Robinhood()"
   ]
  },
  {
   "cell_type": "markdown",
   "metadata": {},
   "source": [
    "## Signing in"
   ]
  },
  {
   "cell_type": "code",
   "execution_count": null,
   "metadata": {},
   "outputs": [],
   "source": [
    "!python --version"
   ]
  },
  {
   "cell_type": "code",
   "execution_count": null,
   "metadata": {},
   "outputs": [],
   "source": [
    "#login\n",
    "rob.login_prompt()"
   ]
  },
  {
   "cell_type": "markdown",
   "metadata": {},
   "source": [
    "## Creating some methods"
   ]
  },
  {
   "cell_type": "code",
   "execution_count": null,
   "metadata": {},
   "outputs": [],
   "source": [
    "def get_buying_power():\n",
    "    buying_power = float(rob.get_account()[\"margin_balances\"][\"unallocated_margin_cash\"])\n",
    "    print(\"Current buying power: {}\".format(buying_power))\n",
    "    return buying_power"
   ]
  },
  {
   "cell_type": "code",
   "execution_count": null,
   "metadata": {},
   "outputs": [],
   "source": [
    "buying_power = get_buying_power()"
   ]
  },
  {
   "cell_type": "code",
   "execution_count": null,
   "metadata": {},
   "outputs": [],
   "source": [
    "def symbols_from_instrument_url(urls):\n",
    "    symbols = []\n",
    "    for url in urls:\n",
    "        symbols.append(rob.session.get(url).json()['symbol'])\n",
    "    return symbols"
   ]
  },
  {
   "cell_type": "code",
   "execution_count": null,
   "metadata": {},
   "outputs": [],
   "source": [
    "symbols = symbols_from_instrument_url(positions.instrument)\n",
    "symbols"
   ]
  },
  {
   "cell_type": "code",
   "execution_count": null,
   "metadata": {},
   "outputs": [],
   "source": [
    "rob.securities_owned()"
   ]
  },
  {
   "cell_type": "code",
   "execution_count": null,
   "metadata": {},
   "outputs": [],
   "source": [
    "def get_positions_pd():\n",
    "    positions = pd.DataFrame.from_dict(rob.securities_owned()['results'])\n",
    "    columns_to_keep = [\"updated_at\", \"average_buy_price\", \"instrument\", \"quantity\", \"shares_held_for_buys\", \"shares_held_for_sells\", \"url\"]\n",
    "    positions = positions.loc[:, columns_to_keep]\n",
    "    symbols = pd.Series(symbols_from_instrument_url(positions.instrument), index=positions.index, name=\"symbol\")\n",
    "    positions = pd.concat([symbols,positions], axis=1)\n",
    "    positions.sort_values(by='updated_at', inplace=True)\n",
    "    return positions"
   ]
  },
  {
   "cell_type": "code",
   "execution_count": null,
   "metadata": {},
   "outputs": [],
   "source": [
    "positions = get_positions_pd()\n",
    "positions"
   ]
  },
  {
   "cell_type": "code",
   "execution_count": null,
   "metadata": {},
   "outputs": [],
   "source": [
    "rob.order_history()['next']"
   ]
  },
  {
   "cell_type": "code",
   "execution_count": null,
   "metadata": {},
   "outputs": [],
   "source": [
    "rob.session.get(rob.order_history()['next'], params={}).json()"
   ]
  },
  {
   "cell_type": "code",
   "execution_count": null,
   "metadata": {},
   "outputs": [],
   "source": [
    "def clean_order_history(columns_to_keep = None):\n",
    "    hist = pd.DataFrame.from_dict(rob.order_history()['results'])\n",
    "    symbols = pd.Series(symbols_from_instrument_url(hist.instrument), index=hist.index, name=\"symbol\")\n",
    "    if not columns_to_keep:\n",
    "        columns_to_keep = ['average_price', \n",
    "                           'cancel', \n",
    "                           'created_at', \n",
    "                           'cumulative_quantity', \n",
    "                           'executions', \n",
    "                           'fees', \n",
    "                           'id', \n",
    "                           'last_transaction_at', \n",
    "                           'position', \n",
    "                           'price', \n",
    "                           'quantity', \n",
    "                           'response_category', \n",
    "                           'side', \n",
    "                           'state', \n",
    "                           'type', \n",
    "                           'updated_at', \n",
    "                           'url']\n",
    "    hist = hist.loc[:, columns_to_keep]\n",
    "    hist = pd.concat([symbols, hist], axis=1)\n",
    "    return hist"
   ]
  },
  {
   "cell_type": "code",
   "execution_count": null,
   "metadata": {},
   "outputs": [],
   "source": [
    "def buy_stock_lot(stock):\n",
    "    stock_In = rob.instruments(stock)[0]\n",
    "    buying_power = get_buying_power()\n",
    "    if buying_power > 0:\n",
    "        if buying_power > lot_size:\n",
    "            amount = lot_size\n",
    "        else:\n",
    "            amount = buying_power\n",
    "\n",
    "    stock_price = float(rob.quote_data(stock)[\"last_trade_price\"])\n",
    "    stock_amount = int(amount / stock_price)\n",
    "    print(\"Stock: {}\".format(stock))\n",
    "    print(\"Price to buy: {}\".format(stock_price))\n",
    "    print(\"Amount to buy: {}\".format(stock_amount))\n",
    "    print(\"Total to pay: {}\".format(stock_amount * stock_price))\n",
    "    buy_order = rob.place_order(instrument=stock_In, \n",
    "                            quantity=stock_amount, \n",
    "                            transaction=rob.Transaction.BUY)\n",
    "    print(\"Bought {} shares of {}\".format(stock_amount, stock))"
   ]
  },
  {
   "cell_type": "code",
   "execution_count": null,
   "metadata": {
    "scrolled": true
   },
   "outputs": [],
   "source": [
    "def sell_at_target(stock):\n",
    "    stock_In = rob.instruments(stock)[0]\n",
    "    positions = get_positions_pd()\n",
    "    avg_price = float(positions[positions.symbol == stock].average_buy_price)\n",
    "    stock_amount = int(float(positions[positions.symbol == stock].quantity.iloc[0]))\n",
    "    sell_target = math.ceil(avg_price * target * 100)/100\n",
    "\n",
    "    print(\"Stock: {}\".format(stock))\n",
    "    print(\"Average cost: {}\".format(avg_price))\n",
    "    print(\"Price to sell: {}\".format(sell_target))\n",
    "    print(\"Amount to sell: {}\".format(stock_amount))\n",
    "    print(\"Total to potentially gain: {}\".format(stock_amount * sell_target))\n",
    "    \n",
    "    #TODO: Check that there are enough shares to sell\n",
    "    #TODO: Check that it will be sold at a profit!\n",
    "    sell_order = rob.place_order(transaction=rob.Transaction.SELL, \n",
    "                             order=rob.Order.LIMIT, \n",
    "                             instrument=stock_In, \n",
    "                             time_in_force=rob.TimeForce.GTC, \n",
    "                             quantity=stock_amount, \n",
    "                             bid_price=sell_target)\n",
    "    print(\"Placed sell order for {} shares of {} stock at price of {}\".format(stock_amount, stock, sell_target))"
   ]
  },
  {
   "cell_type": "code",
   "execution_count": null,
   "metadata": {},
   "outputs": [],
   "source": [
    "def buy_sell_chain(stock):\n",
    "    buy_stock_lot(stock)\n",
    "    time.sleep(5)\n",
    "    sell_at_target(stock)"
   ]
  },
  {
   "cell_type": "code",
   "execution_count": null,
   "metadata": {},
   "outputs": [],
   "source": [
    "def position_age():\n",
    "    pass"
   ]
  },
  {
   "cell_type": "code",
   "execution_count": null,
   "metadata": {},
   "outputs": [],
   "source": [
    "def sell_old_orders(days = 5):\n",
    "    pass"
   ]
  },
  {
   "cell_type": "markdown",
   "metadata": {},
   "source": [
    "## Execute trades"
   ]
  },
  {
   "cell_type": "code",
   "execution_count": null,
   "metadata": {},
   "outputs": [],
   "source": [
    "# Execute the buy/sell chain\n",
    "##########################################\n",
    "\n",
    "# Choose which stock to buy\n",
    "stock = \"MRO\"\n",
    "\n",
    "##########################################\n",
    "\n",
    "buy_sell_chain(stock)"
   ]
  },
  {
   "cell_type": "code",
   "execution_count": null,
   "metadata": {},
   "outputs": [],
   "source": [
    "# Manual buy\n",
    "\n"
   ]
  },
  {
   "cell_type": "code",
   "execution_count": null,
   "metadata": {},
   "outputs": [],
   "source": [
    "# Manual sell\n",
    "stock = \"CARB\"\n",
    "stock_In = rob.instruments(stock)[0]\n",
    "stock_amount = 120\n",
    "sell_target = 42.15\n",
    "\n",
    "sell_order = rob.place_order(transaction=rob.Transaction.SELL, \n",
    "                             order=rob.Order.LIMIT, \n",
    "                             instrument=stock_In, \n",
    "                             time_in_force=rob.TimeForce.GTC, \n",
    "                             quantity=stock_amount, \n",
    "                             bid_price=sell_target)"
   ]
  },
  {
   "cell_type": "code",
   "execution_count": null,
   "metadata": {},
   "outputs": [],
   "source": [
    "# Manual sell stock\n",
    "sell_at_target"
   ]
  },
  {
   "cell_type": "markdown",
   "metadata": {},
   "source": [
    "## View current portfolio"
   ]
  },
  {
   "cell_type": "code",
   "execution_count": null,
   "metadata": {},
   "outputs": [],
   "source": [
    "# View full order history\n",
    "hist = clean_order_history()\n",
    "hist.to_csv(\"order_history.csv\")\n",
    "hist"
   ]
  },
  {
   "cell_type": "code",
   "execution_count": null,
   "metadata": {
    "scrolled": true
   },
   "outputs": [],
   "source": [
    "# View current positions\n",
    "buying_power = get_buying_power()\n",
    "positions = get_positions_pd()\n",
    "positions"
   ]
  },
  {
   "cell_type": "code",
   "execution_count": null,
   "metadata": {},
   "outputs": [],
   "source": [
    "# Check that every position has a sell order attached to it\n",
    "# True = all positions have a complete sell order\n",
    "all(positions.shares_held_for_sells == positions.quantity)"
   ]
  },
  {
   "cell_type": "code",
   "execution_count": null,
   "metadata": {},
   "outputs": [],
   "source": []
  }
 ],
 "metadata": {
  "kernelspec": {
   "display_name": "Python 3",
   "language": "python",
   "name": "python3"
  },
  "language_info": {
   "codemirror_mode": {
    "name": "ipython",
    "version": 3
   },
   "file_extension": ".py",
   "mimetype": "text/x-python",
   "name": "python",
   "nbconvert_exporter": "python",
   "pygments_lexer": "ipython3",
   "version": "3.5.6"
  }
 },
 "nbformat": 4,
 "nbformat_minor": 2
}
