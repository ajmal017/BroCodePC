{
 "cells": [
  {
   "cell_type": "markdown",
   "metadata": {},
   "source": [
    "## Move to python file"
   ]
  },
  {
   "cell_type": "code",
   "execution_count": null,
   "metadata": {},
   "outputs": [],
   "source": [
    "def create_resolved_ibcontract(stock_to_trade):\n",
    "    # Create the contract object\n",
    "    ibcontract = ib.IBcontract()\n",
    "    ibcontract.secType = \"STK\"\n",
    "    ibcontract.symbol = stock_to_trade\n",
    "    ibcontract.currency = \"USD\"\n",
    "    resolved_ibcontract = app.resolve_ib_contract(ibcontract)\n",
    "    print(resolved_ibcontract)\n",
    "\n",
    "    # TODO: Investigate that we are getting the right stock out of all of the options\n",
    "    return resolved_ibcontract"
   ]
  },
  {
   "cell_type": "code",
   "execution_count": null,
   "metadata": {},
   "outputs": [],
   "source": [
    "def get_latest_price(resolved_ibcontract):\n",
    "    \n",
    "    # Get the last price\n",
    "    tickerid = app.start_getting_IB_market_data(resolved_ibcontract)\n",
    "    time.sleep(1)\n",
    "    market_data1 = app.stop_getting_IB_market_data(tickerid)\n",
    "    market_data1_as_df = market_data1.as_pdDataFrame()\n",
    "    display(market_data1_as_df.resample(\"1S\").last())\n",
    "    some_quotes = market_data1_as_df.resample(\"1S\").last()[[\"last_trade_price\"]]\n",
    "    current_price = some_quotes.iloc[0][0]\n",
    "    print(current_price)\n",
    "    \n",
    "    return current_price\n",
    "    # TODO: Skip this stock if price comes back as nan"
   ]
  },
  {
   "cell_type": "markdown",
   "metadata": {},
   "source": [
    "## Reading my Chinese Alipay file. Not related to algo"
   ]
  },
  {
   "cell_type": "code",
   "execution_count": null,
   "metadata": {},
   "outputs": [],
   "source": [
    "from chardet import detect\n",
    "encoding = lambda x: detect(x)['encoding']"
   ]
  },
  {
   "cell_type": "code",
   "execution_count": null,
   "metadata": {},
   "outputs": [],
   "source": [
    "f = open('/Users/chingaling/Desktop/alipay_record_20181112_1301_1.csv','r')"
   ]
  },
  {
   "cell_type": "code",
   "execution_count": null,
   "metadata": {},
   "outputs": [],
   "source": [
    "type(f)"
   ]
  },
  {
   "cell_type": "code",
   "execution_count": null,
   "metadata": {},
   "outputs": [],
   "source": [
    "for line in f:\n",
    "    print encoding(line)\n",
    "f.close()"
   ]
  },
  {
   "cell_type": "code",
   "execution_count": null,
   "metadata": {},
   "outputs": [],
   "source": [
    "  n_line=unicode(line,encoding(line),errors='ignore')\n",
    "  print n_line\n",
    "  print n_line.encode('utf8')"
   ]
  },
  {
   "cell_type": "markdown",
   "metadata": {},
   "source": [
    "## Beginning of algo playground"
   ]
  },
  {
   "cell_type": "code",
   "execution_count": 3,
   "metadata": {},
   "outputs": [],
   "source": [
    "import sys\n",
    "sys.path.insert(0, '/Users/chingaling/Documents/Algo Trading/BroCodePC')\n",
    "import IB_API_tutorial as ib\n",
    "import main as m\n",
    "import time\n",
    "import pandas as pd\n",
    "from pandas.tseries.offsets import BDay\n",
    "import numpy as np\n",
    "import math\n",
    "import datetime\n",
    "from itertools import cycle"
   ]
  },
  {
   "cell_type": "code",
   "execution_count": 143,
   "metadata": {},
   "outputs": [
    {
     "data": {
      "text/plain": [
       "<module 'IB_API_tutorial' from '/Users/chingaling/Documents/Algo Trading/BroCodePC/IB_API_tutorial.py'>"
      ]
     },
     "execution_count": 143,
     "metadata": {},
     "output_type": "execute_result"
    }
   ],
   "source": [
    "app.disconnect()\n",
    "from importlib import reload\n",
    "reload (ib)"
   ]
  },
  {
   "cell_type": "code",
   "execution_count": null,
   "metadata": {},
   "outputs": [],
   "source": [
    "sys.path.insert(0, '/Users/chingaling/Documents/Algo Trading/RobCarver')\n",
    "import L3StreamData"
   ]
  },
  {
   "cell_type": "markdown",
   "metadata": {},
   "source": [
    "## Create some global variables and open connection"
   ]
  },
  {
   "cell_type": "code",
   "execution_count": 5,
   "metadata": {},
   "outputs": [],
   "source": [
    "port = 7496\n",
    "ip = \"127.0.0.1\"\n",
    "clientID = 1\n",
    "buyFactor = .99\n",
    "SellFactor = 1.01\n",
    "rebalance_interval = 10\n",
    "maxBuyOrdersAtOnce = 30\n",
    "minInvSize = 1000\n",
    "stock_list = []\n",
    "maxCandidates=100\n",
    "leastPrice=3.00\n",
    "mostPrice=20.00\n",
    "fireSalePrice = leastPrice\n",
    "fireSaleAge = 6\n",
    "\n",
    "# Local file addresses\n",
    "csvAddress_stocks_to_trade = \"/Users/chingaling/Documents/Algo Trading/BroCodePC/stocks_to_trade.csv\"\n",
    "csvAddress_orders = \"/Users/chingaling/Documents/Algo Trading/BroCodePC/orders.csv\"\n",
    "pklAdd_orders = \"/Users/chingaling/Documents/Algo Trading/BroCodePC/orders.pkl\"\n",
    "pklAdd_exec = \"/Users/chingaling/Documents/Algo Trading/BroCodePC/executions.pkl\""
   ]
  },
  {
   "cell_type": "code",
   "execution_count": 144,
   "metadata": {},
   "outputs": [
    {
     "name": "stdout",
     "output_type": "stream",
     "text": [
      "Getting the time from the server... \n",
      "IB error id -1 errorcode 2110 string Connectivity between Trader Workstation and server is broken. It will be restored automatically.\n",
      "IB error id -1 errorcode 2104 string Market data farm connection is OK:usfuture\n",
      "IB error id -1 errorcode 2104 string Market data farm connection is OK:eufarm\n",
      "IB error id -1 errorcode 2104 string Market data farm connection is OK:njfarm\n",
      "IB error id -1 errorcode 2106 string HMDS data farm connection is OK:ushmds.us\n",
      "IB error id -1 errorcode 2106 string HMDS data farm connection is OK:ilhmds\n",
      "IB error id -1 errorcode 2106 string HMDS data farm connection is OK:euhmds\n",
      "IB error id -1 errorcode 2105 string HMDS data farm connection is broken:fundfarm\n",
      "IB error id -1 errorcode 2105 string HMDS data farm connection is broken:ushmds\n",
      "1542735837\n"
     ]
    }
   ],
   "source": [
    "# Test connection\n",
    "#clientID = 2\n",
    "app = ib.TestApp(ip, port, clientID)\n",
    "current_time = app.speaking_clock()\n",
    "print(current_time)"
   ]
  },
  {
   "cell_type": "markdown",
   "metadata": {},
   "source": [
    "## Making buy orders"
   ]
  },
  {
   "cell_type": "code",
   "execution_count": 65,
   "metadata": {},
   "outputs": [],
   "source": [
    "def submit_buy_order(stock_to_trade):\n",
    "    #if stock_to_trade in positions:\n",
    "        #TODO: Check if this is actually a criteria in the Quantopian model\n",
    "        #pass \n",
    "    resolved_ibcontract = app.create_resolved_ibcontract(stock_to_trade)\n",
    "    PH = app.get_IB_historical_data(resolved_ibcontract, durationStr='20 D')\n",
    "    PH_df = pd.DataFrame(PH, columns=['date', 'open', 'high', 'low', 'close', 'volume'])\n",
    "    PH_Avg = float(PH_df.close.mean())\n",
    "    current_price = float(app.get_latest_price(resolved_ibcontract))\n",
    "    \n",
    "    # If can't retrieve current price, skip it for now\n",
    "    if np.isnan(current_price):\n",
    "        print('Could not get current price. Skipping for now')\n",
    "        pass \n",
    "    else:\n",
    "        \n",
    "        # If there's a large 25% surge in price, buy it at current price\n",
    "        if current_price > float(1.25*PH_Avg):\n",
    "            buyPrice=float(current_price)\n",
    "        else:\n",
    "            buyPrice=float(current_price*buyFactor)\n",
    "        buyPrice=float(ib.make_div_by_05(buyPrice, buy=True))\n",
    "        StockShares = int(minInvSize/buyPrice)\n",
    "        print(\"Buying {}, \\tshares: {}, \\tprice: {}\".format(stock_to_trade, StockShares, buyPrice))\n",
    "\n",
    "        # Submit the buy order and log the order\n",
    "        orderid = app.submit_order(resolved_ibcontract=resolved_ibcontract, action=\"BUY\", shares=StockShares, price=buyPrice, order_type=\"LMT\", orderid=None, tif=\"GTC\")\n",
    "        app.add_order_entry(orderid)"
   ]
  },
  {
   "cell_type": "code",
   "execution_count": 68,
   "metadata": {},
   "outputs": [],
   "source": [
    "def rebalance_buy_orders():\n",
    "    \n",
    "    WeightThisBuyOrder=float(1.00/maxBuyOrdersAtOnce)\n",
    "    \n",
    "    #TODO: Update hard-coded integer here to max out my available cash\n",
    "    #TODO: Update for loop to keep going until all buy orders are executed. Currently, sometimes some buy orders will be skipped\n",
    "    for ThisBuyOrder in range(13):\n",
    "\n",
    "        # Get next stock to trade\n",
    "        stock_to_trade = next(app.nextStock)\n",
    "        print(\"Considering trading this stock: {}\".format(stock_to_trade))\n",
    "\n",
    "        # TODO: Check to see if this stock is already on the order list, or within the portfolio. Or if it's been traded already today (like sold). If so, skip to the next one.\n",
    "\n",
    "        # Check if there is an existing buy order, or if stock is already in portfolio\n",
    "        positions = app.get_current_positions()\n",
    "        open_orders = app.get_open_orders_pd()\n",
    "        updated_executions_pd = app.get_latest_executions()\n",
    "        todays_executions = updated_executions_pd[datetime.datetime.now() - updated_executions_pd.dttime < datetime.timedelta(days=1)]\n",
    "\n",
    "        cond1 = positions.symbol.isin([stock_to_trade]).any()\n",
    "        cond2 = open_orders[open_orders.action == 'BUY'].symbol.isin([stock_to_trade]).any()\n",
    "        cond3 = todays_executions.symbol.isin([stock_to_trade]).any()\n",
    "        if cond1 or cond2 or cond3:\n",
    "            print('In positions?: {}\\tIn open_orders?: {}\\tTraded today?: {}'.format(cond1, cond2, cond3))\n",
    "            pass\n",
    "        else:\n",
    "            submit_buy_order(stock_to_trade)"
   ]
  },
  {
   "cell_type": "code",
   "execution_count": 191,
   "metadata": {},
   "outputs": [],
   "source": [
    "# Load the list of 100 stocks to consider trading today\n",
    "app.generate_stock_shortlist()"
   ]
  },
  {
   "cell_type": "code",
   "execution_count": 192,
   "metadata": {},
   "outputs": [
    {
     "name": "stdout",
     "output_type": "stream",
     "text": [
      "Considering trading this stock: IMTE\n",
      "Getting full contract details from the server... \n",
      "got multiple contracts using first one\n",
      "284710180,IMTE,STK,,0.0,,,SMART,NASDAQ,USD,IMTE,SCM,False,,combo:\n",
      "Getting historical data from the server... could take 20 seconds to complete \n",
      "IB error id 50 errorcode 366 string No historical data query found for ticker id:50\n",
      "Current price: nan\n",
      "Could not get current price. Skipping for now\n",
      "Considering trading this stock: MBIO\n",
      "Getting full contract details from the server... \n",
      "got multiple contracts using first one\n",
      "286853239,MBIO,STK,,0.0,,,SMART,NASDAQ,USD,MBIO,NMS,False,,combo:\n",
      "Getting historical data from the server... could take 20 seconds to complete \n",
      "IB error id 50 errorcode 366 string No historical data query found for ticker id:50\n",
      "Current price: nan\n",
      "Could not get current price. Skipping for now\n",
      "Considering trading this stock: OPNT\n",
      "Getting full contract details from the server... \n",
      "got multiple contracts using first one\n",
      "225015392,OPNT,STK,,0.0,,,SMART,NASDAQ,USD,OPNT,SCM,False,,combo:\n",
      "Getting historical data from the server... could take 20 seconds to complete \n",
      "IB error id 50 errorcode 366 string No historical data query found for ticker id:50\n",
      "Current price: nan\n",
      "Could not get current price. Skipping for now\n",
      "Considering trading this stock: SPRO\n",
      "Getting full contract details from the server... \n",
      "got multiple contracts using first one\n",
      "294729611,SPRO,STK,,0.0,,,SMART,NASDAQ,USD,SPRO,NMS,False,,combo:\n",
      "Getting historical data from the server... could take 20 seconds to complete \n",
      "IB error id 50 errorcode 366 string No historical data query found for ticker id:50\n",
      "Current price: nan\n",
      "Could not get current price. Skipping for now\n",
      "Considering trading this stock: BXG\n",
      "In positions?: True\tIn open_orders?: False\tTraded today?: False\n",
      "Considering trading this stock: LEVB\n",
      "In positions?: True\tIn open_orders?: False\tTraded today?: False\n",
      "Considering trading this stock: FTNW\n",
      "Getting full contract details from the server... \n",
      "got multiple contracts using first one\n",
      "295154154,FTNW,STK,,0.0,,,SMART,AMEX,USD,FTNW,FTNW,False,,combo:\n",
      "Getting historical data from the server... could take 20 seconds to complete \n",
      "IB error id 50 errorcode 366 string No historical data query found for ticker id:50\n",
      "Current price: 5.61\n",
      "Buying FTNW, \tshares: 180, \tprice: 5.55\n",
      "Using order id of 63\n",
      "Placed order, orderid is 63\n",
      "Considering trading this stock: CUE\n",
      "Getting full contract details from the server... \n",
      "got multiple contracts using first one\n",
      "300465612,CUE,STK,,0.0,,,SMART,NASDAQ,USD,CUE,SCM,False,,combo:\n",
      "Getting historical data from the server... could take 20 seconds to complete \n",
      "IB error id 50 errorcode 366 string No historical data query found for ticker id:50\n",
      "Current price: 5.05\n",
      "Buying CUE, \tshares: 202, \tprice: 4.95\n",
      "Using order id of 64\n",
      "Placed order, orderid is 64\n",
      "Considering trading this stock: MOTS\n",
      "In positions?: True\tIn open_orders?: False\tTraded today?: True\n",
      "Considering trading this stock: LAZY\n",
      "In positions?: True\tIn open_orders?: False\tTraded today?: False\n",
      "Considering trading this stock: EVLO\n",
      "Getting full contract details from the server... \n",
      "got multiple contracts using first one\n",
      "317116242,EVLO,STK,,0.0,,,SMART,NASDAQ,USD,EVLO,NMS,False,,combo:\n",
      "Getting historical data from the server... could take 20 seconds to complete \n",
      "IB error id 50 errorcode 366 string No historical data query found for ticker id:50\n",
      "Current price: 9.45\n",
      "Buying EVLO, \tshares: 106, \tprice: 9.35\n",
      "Using order id of 65\n",
      "Placed order, orderid is 65\n",
      "Considering trading this stock: KNSA\n",
      "In positions?: True\tIn open_orders?: False\tTraded today?: False\n",
      "Considering trading this stock: CLPS\n",
      "Getting full contract details from the server... \n",
      "got multiple contracts using first one\n",
      "319099408,CLPS,STK,,0.0,,,SMART,NASDAQ,USD,CLPS,NMS,False,,combo:\n",
      "Getting historical data from the server... could take 20 seconds to complete \n",
      "IB error id 50 errorcode 366 string No historical data query found for ticker id:50\n",
      "Current price: 5.84\n",
      "Buying CLPS, \tshares: 173, \tprice: 5.75\n",
      "Using order id of 66\n",
      "Placed order, orderid is 66\n"
     ]
    }
   ],
   "source": [
    "# Run algorithm to create all of the buy orders.\n",
    "rebalance_buy_orders()"
   ]
  },
  {
   "cell_type": "markdown",
   "metadata": {},
   "source": [
    "## Cancelling buy orders"
   ]
  },
  {
   "cell_type": "code",
   "execution_count": 201,
   "metadata": {},
   "outputs": [],
   "source": [
    "# Cancel all open buy orders\n",
    "app.cancel_all_open_buy_orders(minutes=rebalance_interval)"
   ]
  },
  {
   "cell_type": "markdown",
   "metadata": {},
   "source": [
    "## Submitting sell orders"
   ]
  },
  {
   "cell_type": "code",
   "execution_count": 163,
   "metadata": {},
   "outputs": [
    {
     "name": "stdout",
     "output_type": "stream",
     "text": [
      "Considering placing sell order for MOTS\n",
      "Getting full contract details from the server... \n",
      "got multiple contracts using first one\n",
      "306363711,MOTS,STK,,0.0,,,SMART,NASDAQ,USD,MOTS,SCM,False,,combo:\n",
      "Current price: 3.15\n",
      "Position held for less than 2 days. Skipping\n",
      "Considering placing sell order for BXG\n",
      "Getting full contract details from the server... \n",
      "got multiple contracts using first one\n",
      "296320248,BXG,STK,,0.0,,,SMART,NYSE,USD,BXG,BXG,False,,combo:\n",
      "Current price: 11.08\n",
      "Position held for less than 2 days. Skipping\n",
      "Considering placing sell order for MGTA\n",
      "Do not have a position\n",
      "Considering placing sell order for SIC\n",
      "Existing sell order in place. Skipping\n",
      "Getting full contract details from the server... \n",
      "got multiple contracts using first one\n",
      "329820282,SIC,STK,,0.0,,,SMART,NASDAQ,USD,SIC,SCM,False,,combo:\n",
      "Current price: 8.0\n",
      "Selling SIC, \tshares: 232.0, \tprice: 8.7\n",
      "Using order id of 49\n",
      "Placed order, orderid is 49\n",
      "Considering placing sell order for LEVB\n",
      "Getting full contract details from the server... \n",
      "got multiple contracts using first one\n",
      "296466062,LEVB,STK,,0.0,,,SMART,AMEX,USD,LEVB,LEVB,False,,combo:\n",
      "Current price: 3.76\n",
      "Position held for less than 2 days. Skipping\n",
      "Considering placing sell order for KNSA\n",
      "Existing sell order in place. Skipping\n",
      "Getting full contract details from the server... \n",
      "got multiple contracts using first one\n",
      "319099329,KNSA,STK,,0.0,,,SMART,NASDAQ,USD,KNSA,NMS,False,,combo:\n",
      "Current price: 17.72\n",
      "Selling KNSA, \tshares: 110.0, \tprice: 18.25\n",
      "Using order id of 50\n",
      "Placed order, orderid is 50\n",
      "Considering placing sell order for LAZY\n",
      "Existing sell order in place. Skipping\n",
      "Getting full contract details from the server... \n",
      "got multiple contracts using first one\n",
      "310624804,LAZY,STK,,0.0,,,SMART,NASDAQ,USD,LAZY,SCM,False,,combo:\n",
      "Current price: 5.04\n",
      "Selling LAZY, \tshares: 200.0, \tprice: 5.55\n",
      "Using order id of 51\n",
      "Placed order, orderid is 51\n",
      "Considering placing sell order for USD\n",
      "Getting full contract details from the server... \n",
      "got multiple contracts using first one\n",
      "42808834,USD,STK,,0.0,,,SMART,ARCA,USD,USD,USD,False,,combo:\n",
      "Current price: 31.69\n"
     ]
    }
   ],
   "source": [
    "app.rebalance_all_sell_orders()"
   ]
  },
  {
   "cell_type": "code",
   "execution_count": null,
   "metadata": {},
   "outputs": [],
   "source": [
    "def main_trading():\n",
    "    # Here goes all of the code to run throughout the trading day\n",
    "\n",
    "    #Before trading day starts, load up list of stock candidates\n",
    "    self.stock_list = generate_stock_shortlist()\n",
    "\n",
    "    #TODO: Every rebalance_interval minutes, rebalance the portfolio\n",
    "    while (current_time < end_trading_day):\n",
    "        \n",
    "        # Connect to the IB API for every rebalancing\n",
    "        app = ib.TestApp(\"127.0.0.1\", port, 1)\n",
    "        rebalance(buyFactor=buyFactor, SellFactor=SellFactor)\n",
    "        \n",
    "        # At the end of the day, disconnect from the IB API app\n",
    "        app.disconnect()\n",
    "        \n",
    "        # Wait for the rebalance_interval time (in minutes)\n",
    "        time.wait(rebalance_interval * 60)"
   ]
  },
  {
   "cell_type": "code",
   "execution_count": null,
   "metadata": {},
   "outputs": [],
   "source": [
    "def rebalance(buyFactor=.99, SellFactor=1.01):\n",
    "    # Re-balancing method from 30_stock algo every 10 minutes. Buy order cycles through list of 100 stock selected each day.\n",
    "\n",
    "    # Get outstanding buying power from account\n",
    "    cash=get_buying_power()\n",
    "\n",
    "    # Close out all outstanding buy orders that were not fulfilled. Should be most of them\n",
    "    cancel_open_buy_orders()\n",
    "\n",
    "    # Get list of current positions\n",
    "    positions = get_current_positions()\n",
    "\n",
    "    # Create new sell orders as per algo strategy\n",
    "    rebalance_all_sell_orders()\n",
    "\n",
    "    # Submit new buy orders\n",
    "    if cash > minInvSize:\n",
    "        rebalance_buy_orders()"
   ]
  },
  {
   "cell_type": "code",
   "execution_count": null,
   "metadata": {},
   "outputs": [],
   "source": [
    "# Retrieve information from IB server\n",
    "def get_buying_power(self):\n",
    "    #TODO: Retrieve remaining buying power from account\n",
    "    accounting_values = app.get_accounting_values(accountName)\n",
    "    \n",
    "    pass"
   ]
  },
  {
   "cell_type": "code",
   "execution_count": null,
   "metadata": {},
   "outputs": [],
   "source": [
    "app.cancel_open_buy_orders()"
   ]
  },
  {
   "cell_type": "code",
   "execution_count": null,
   "metadata": {},
   "outputs": [],
   "source": [
    "def get_open_sell_orders(self):\n",
    "    #TODO: Retrieve list of all open sell orders:\n",
    "\n",
    "    pass"
   ]
  },
  {
   "cell_type": "code",
   "execution_count": null,
   "metadata": {},
   "outputs": [],
   "source": [
    "def generate_stock_shortlist(self):\n",
    "\n",
    "    # Return list of stocks to trade for the day\n",
    "    csvAddress = \"/Users/chingaling/Documents/Algo Trading/BroCodePC/stocks_to_trade.csv\"\n",
    "    self.stock_list = list(pd.read_csv(csvAddress).Stocks)\n",
    "    self.nextStock = cycle(stockNames)"
   ]
  },
  {
   "cell_type": "code",
   "execution_count": null,
   "metadata": {},
   "outputs": [],
   "source": [
    "app.generate_stock_shortlist()"
   ]
  },
  {
   "cell_type": "markdown",
   "metadata": {},
   "source": [
    "## Getting executions and commission"
   ]
  },
  {
   "cell_type": "code",
   "execution_count": null,
   "metadata": {},
   "outputs": [],
   "source": [
    "## lets get positions\n",
    "positions_list = app.get_current_positions()\n",
    "print(positions_list)\n",
    "\n",
    "## get the account name from the position\n",
    "## normally you would know your account name\n",
    "accountName = positions_list.account[0]\n",
    "\n",
    "## and accounting information\n",
    "accounting_values = app.get_accounting_values(accountName)\n",
    "print(accounting_values)\n",
    "\n",
    "## these values are cached\n",
    "## if we ask again in more than 5 minutes it will update everything\n",
    "accounting_updates = app.get_accounting_updates(accountName)\n",
    "print(accounting_updates)\n",
    "\n",
    "# TODO: solve this error below\n",
    "'''\n",
    "  File \"/Users/chingaling/Documents/Algo Trading/BroCodePC/IB_API_tutorial.py\", line 380, in updateAccountTime\n",
    "    self._my_accounts[accountName].put(data)\n",
    "NameError: name 'accountName' is not defined\n",
    "'''"
   ]
  },
  {
   "cell_type": "code",
   "execution_count": null,
   "metadata": {
    "scrolled": true
   },
   "outputs": [],
   "source": [
    "accounting_values"
   ]
  },
  {
   "cell_type": "code",
   "execution_count": null,
   "metadata": {},
   "outputs": [],
   "source": [
    "accounting_updates[0]"
   ]
  },
  {
   "cell_type": "code",
   "execution_count": null,
   "metadata": {},
   "outputs": [],
   "source": [
    "# Re-balancing method from 30_stock algo every 10 minutes. Buy order cycles through list of 100 stock selected each day.\n",
    "\n",
    "def my_rebalance(context, data):\n",
    "    buyFactor=.99\n",
    "    SellFactor=1.01\n",
    "    cash=context.portfolio.cash\n",
    "\n",
    "    cancel_open_buy_orders(context, data)\n",
    "\n",
    "    # Order sell at profit target in hope that somebody actually buys it\n",
    "    for stock in context.portfolio.positions:\n",
    "        if not get_open_orders(stock):\n",
    "            StockShares = context.portfolio.positions[stock].amount\n",
    "            CurrPrice = float(data.current([stock], 'price'))\n",
    "            CostBasis = float(context.portfolio.positions[stock].cost_basis)\n",
    "            SellPrice = float(make_div_by_05(CostBasis*SellFactor, buy=False))\n",
    "            \n",
    "            \n",
    "            if np.isnan(SellPrice) :\n",
    "                pass # probably best to wait until nan goes away\n",
    "            elif (stock in context.age and context.age[stock] == 1) :\n",
    "                pass\n",
    "            elif (\n",
    "                stock in context.age \n",
    "                and context.MyFireSaleAge<=context.age[stock] \n",
    "                and (\n",
    "                    context.MyFireSalePrice>CurrPrice\n",
    "                    or CostBasis>CurrPrice\n",
    "                )\n",
    "            ):\n",
    "                if (stock in context.age and context.age[stock] < 2) :\n",
    "                    pass\n",
    "                elif stock not in context.age:\n",
    "                    context.age[stock] = 1\n",
    "                else:\n",
    "                    SellPrice = float(make_div_by_05(.95*CurrPrice, buy=False))\n",
    "                    print(\"Selling {}, \\tshares: {}, \\tprice: {}\".format(stock, StockShares, SellPrice))\n",
    "                    order(stock, -StockShares,\n",
    "                        style=LimitOrder(SellPrice)\n",
    "                    )\n",
    "            else:\n",
    "                if (stock in context.age and context.age[stock] < 2) :\n",
    "                    pass\n",
    "                elif stock not in context.age:\n",
    "                    context.age[stock] = 1\n",
    "                else:\n",
    "                    print(\"Selling {}, \\tshares: {}, \\tprice: {}\".format(stock, StockShares, SellPrice))\n",
    "                    order(stock, -StockShares,\n",
    "                        style=LimitOrder(SellPrice)\n",
    "                    )\n",
    "\n",
    "    WeightThisBuyOrder=float(1.00/context.maxBuyOrdersAtOnce)\n",
    "    for ThisBuyOrder in range(context.maxBuyOrdersAtOnce):\n",
    "        stock = next(context.MyCandidate)\n",
    "        PH = data.history([stock], 'price', 20, '1d')\n",
    "        PH_Avg = float(PH.mean())\n",
    "        CurrPrice = float(data.current([stock], 'price'))\n",
    "        if np.isnan(CurrPrice):\n",
    "            pass # probably best to wait until nan goes away\n",
    "        else:\n",
    "            if CurrPrice > float(1.25*PH_Avg):\n",
    "                BuyPrice=float(CurrPrice)\n",
    "            else:\n",
    "                BuyPrice=float(CurrPrice*buyFactor)\n",
    "            BuyPrice=float(make_div_by_05(BuyPrice, buy=True))\n",
    "            StockShares = int(WeightThisBuyOrder*cash/BuyPrice)\n",
    "            #print(\"Buying {}, \\tshares: {}, \\tprice: {}\".format(stock, StockShares, BuyPrice))\n",
    "            order(stock, StockShares,\n",
    "                style=LimitOrder(BuyPrice)\n",
    "            )"
   ]
  },
  {
   "cell_type": "markdown",
   "metadata": {},
   "source": [
    "## Lesson 1: Create a connection with IB API\n",
    "https://qoppac.blogspot.com/2017/03/interactive-brokers-native-python-api.html\n",
    "\n",
    "## Lesson 2: Get historic data\n",
    "https://qoppac.blogspot.com/2017/03/historic-data-from-native-ib-pyhon-api.html\n",
    "\n",
    "## Lesson 3: Get streaming data\n",
    "https://qoppac.blogspot.com/2017/03/streaming-market-data-from-native.html\n",
    "\n",
    "## Lesson 4: Creating orders\n",
    "https://qoppac.blogspot.com/2017/03/placing-orders-in-native-python-ib-api.html\n",
    "\n",
    "## Lesson 5: Getting portfolio positions and account info\n",
    "https://qoppac.blogspot.com/2017/03/getting-position-and-accounting-data.html"
   ]
  }
 ],
 "metadata": {
  "kernelspec": {
   "display_name": "Python 3",
   "language": "python",
   "name": "python3"
  },
  "language_info": {
   "codemirror_mode": {
    "name": "ipython",
    "version": 3
   },
   "file_extension": ".py",
   "mimetype": "text/x-python",
   "name": "python",
   "nbconvert_exporter": "python",
   "pygments_lexer": "ipython3",
   "version": "3.5.5"
  }
 },
 "nbformat": 4,
 "nbformat_minor": 2
}
