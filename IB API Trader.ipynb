{
 "cells": [
  {
   "cell_type": "markdown",
   "metadata": {},
   "source": [
    "## Beginning of algo playground"
   ]
  },
  {
   "cell_type": "code",
   "execution_count": 1,
   "metadata": {},
   "outputs": [],
   "source": [
    "import sys\n",
    "sys.path.insert(0, '/Users/chingaling/Documents/Algo Trading/BroCodePC')\n",
    "import IB_API_tutorial as ib\n",
    "import main as m\n",
    "import time\n",
    "import schedule\n",
    "import pandas as pd\n",
    "from pandas.tseries.offsets import BDay\n",
    "import numpy as np\n",
    "import math\n",
    "import datetime\n",
    "from itertools import cycle\n",
    "import pytz"
   ]
  },
  {
   "cell_type": "markdown",
   "metadata": {},
   "source": [
    "## Create some global variables and open connection"
   ]
  },
  {
   "cell_type": "code",
   "execution_count": 2,
   "metadata": {},
   "outputs": [],
   "source": [
    "port = 7496\n",
    "ip = \"127.0.0.1\"\n",
    "clientID = 1\n",
    "buyFactor = .99\n",
    "SellFactor = 1.01\n",
    "rebalance_interval = 10\n",
    "maxBuyOrdersAtOnce = 30\n",
    "minInvSize = 1000\n",
    "stock_list = []\n",
    "maxCandidates=100\n",
    "leastPrice=3.00\n",
    "mostPrice=20.00\n",
    "fireSalePrice = leastPrice\n",
    "fireSaleAge = 6\n",
    "\n",
    "# Local file addresses\n",
    "csvAddress_stocks_to_trade = \"/Users/chingaling/Documents/Algo Trading/BroCodePC/stocks_to_trade.csv\"\n",
    "csvAddress_exec = \"/Users/chingaling/Documents/Algo Trading/BroCodePC/executions.csv\"\n",
    "csvAddress_orders = \"/Users/chingaling/Documents/Algo Trading/BroCodePC/orders.csv\"\n",
    "pklAdd_orders = \"/Users/chingaling/Documents/Algo Trading/BroCodePC/orders.pkl\"\n",
    "pklAdd_exec = \"/Users/chingaling/Documents/Algo Trading/BroCodePC/executions.pkl\""
   ]
  },
  {
   "cell_type": "code",
   "execution_count": null,
   "metadata": {},
   "outputs": [],
   "source": [
    "app.disconnect()\n",
    "from importlib import reload\n",
    "reload (ib)"
   ]
  },
  {
   "cell_type": "code",
   "execution_count": 3,
   "metadata": {},
   "outputs": [
    {
     "name": "stdout",
     "output_type": "stream",
     "text": [
      "Getting the time from the server... \n",
      "IB error id -1 errorcode 2104 string Market data farm connection is OK:njfarm.nj\n",
      "IB error id -1 errorcode 2104 string Market data farm connection is OK:eufarm\n",
      "IB error id -1 errorcode 2104 string Market data farm connection is OK:njfarm\n",
      "IB error id -1 errorcode 2106 string HMDS data farm connection is OK:ushmds.us\n",
      "IB error id -1 errorcode 2106 string HMDS data farm connection is OK:ilhmds\n",
      "IB error id -1 errorcode 2106 string HMDS data farm connection is OK:hkhmds\n",
      "IB error id -1 errorcode 2106 string HMDS data farm connection is OK:fundfarm\n",
      "IB error id -1 errorcode 2106 string HMDS data farm connection is OK:ushmds\n",
      "1543448042\n"
     ]
    }
   ],
   "source": [
    "# Test connection\n",
    "#clientID = 2\n",
    "app = ib.TestApp(ip, port, clientID)\n",
    "current_time = app.speaking_clock()\n",
    "print(current_time)"
   ]
  },
  {
   "cell_type": "code",
   "execution_count": null,
   "metadata": {},
   "outputs": [],
   "source": [
    "a = pd.read_pickle(pklAdd_exec)\n",
    "b = pd.read_pickle(pklAdd_orders)"
   ]
  },
  {
   "cell_type": "code",
   "execution_count": null,
   "metadata": {},
   "outputs": [],
   "source": [
    "a.to_csv(csvAddress_exec)\n",
    "b.to_csv(csvAddress_orders)"
   ]
  },
  {
   "cell_type": "markdown",
   "metadata": {},
   "source": [
    "## Executing main trading algo"
   ]
  },
  {
   "cell_type": "code",
   "execution_count": null,
   "metadata": {},
   "outputs": [],
   "source": [
    "app.main_trading()"
   ]
  },
  {
   "cell_type": "markdown",
   "metadata": {},
   "source": [
    "## Making buy orders"
   ]
  },
  {
   "cell_type": "code",
   "execution_count": null,
   "metadata": {},
   "outputs": [],
   "source": [
    "# Load the list of 100 stocks to consider trading today\n",
    "app.generate_stock_shortlist()"
   ]
  },
  {
   "cell_type": "code",
   "execution_count": null,
   "metadata": {},
   "outputs": [],
   "source": [
    "# Run algorithm to create all of the buy orders.\n",
    "app.rebalance_buy_orders()"
   ]
  },
  {
   "cell_type": "markdown",
   "metadata": {},
   "source": [
    "## Cancelling orders"
   ]
  },
  {
   "cell_type": "code",
   "execution_count": null,
   "metadata": {},
   "outputs": [],
   "source": [
    "# Cancel all orders\n",
    "app.cancel_all_orders()"
   ]
  },
  {
   "cell_type": "code",
   "execution_count": null,
   "metadata": {},
   "outputs": [],
   "source": [
    "# Cancel all open buy orders\n",
    "app.cancel_all_open_buy_orders(minutes=rebalance_interval)"
   ]
  },
  {
   "cell_type": "code",
   "execution_count": 4,
   "metadata": {},
   "outputs": [
    {
     "name": "stdout",
     "output_type": "stream",
     "text": [
      "Cancelling this order: MFIN\n",
      "298\n",
      "IB error id 298 errorcode 202 string Order Canceled - reason:\n",
      "Cancelling this order: TACT\n",
      "299\n",
      "IB error id 299 errorcode 202 string Order Canceled - reason:\n"
     ]
    }
   ],
   "source": [
    "# Cancel all open buy orders\n",
    "app.cancel_all_open_buy_orders(minutes=0)"
   ]
  },
  {
   "cell_type": "markdown",
   "metadata": {},
   "source": [
    "## Submitting sell orders"
   ]
  },
  {
   "cell_type": "code",
   "execution_count": null,
   "metadata": {},
   "outputs": [],
   "source": [
    "app.rebalance_all_sell_orders()"
   ]
  },
  {
   "cell_type": "markdown",
   "metadata": {},
   "source": [
    "## Getting executions and commission"
   ]
  },
  {
   "cell_type": "code",
   "execution_count": null,
   "metadata": {},
   "outputs": [],
   "source": [
    "## lets get positions\n",
    "positions_list = app.get_current_positions()\n",
    "print(positions_list)"
   ]
  },
  {
   "cell_type": "code",
   "execution_count": null,
   "metadata": {},
   "outputs": [],
   "source": [
    "## get the account name from the position\n",
    "## normally you would know your account name\n",
    "accountName = positions_list.account[0]"
   ]
  },
  {
   "cell_type": "code",
   "execution_count": null,
   "metadata": {},
   "outputs": [],
   "source": [
    "accountName"
   ]
  },
  {
   "cell_type": "code",
   "execution_count": null,
   "metadata": {},
   "outputs": [],
   "source": [
    "def get_available_funds():\n",
    "\n",
    "    '''\n",
    "    Retrieves the amount of funds available to use for limit buy orders\n",
    "    \n",
    "    Returns: Float\n",
    "    '''\n",
    "    \n",
    "    accounting_values = app.get_accounting_values(accountName)\n",
    "    a = pd.DataFrame(accounting_values, columns=['desc', 'amount', 'curr'])\n",
    "    a.set_index(keys='desc', inplace=True)\n",
    "    return float(a.loc['AvailableFunds-S'].amount)\n",
    "\n",
    "available_funds = get_available_funds()"
   ]
  },
  {
   "cell_type": "code",
   "execution_count": null,
   "metadata": {},
   "outputs": [],
   "source": [
    "available_funds"
   ]
  },
  {
   "cell_type": "code",
   "execution_count": null,
   "metadata": {},
   "outputs": [],
   "source": [
    "## these values are cached\n",
    "## if we ask again in more than 5 minutes it will update everything\n",
    "accounting_updates = app.get_accounting_updates(accountName)\n",
    "print(accounting_updates)"
   ]
  },
  {
   "cell_type": "markdown",
   "metadata": {},
   "source": [
    "## Playground"
   ]
  },
  {
   "cell_type": "code",
   "execution_count": null,
   "metadata": {},
   "outputs": [],
   "source": [
    "a = app.get_current_positions()"
   ]
  },
  {
   "cell_type": "code",
   "execution_count": null,
   "metadata": {},
   "outputs": [],
   "source": [
    "accountName"
   ]
  },
  {
   "cell_type": "code",
   "execution_count": null,
   "metadata": {
    "scrolled": true
   },
   "outputs": [],
   "source": [
    "positions_list = app.get_current_positions()\n",
    "accountName = positions_list.account[0]\n",
    "accounting_values = app.get_accounting_values(accountName)\n",
    "b = pd.DataFrame(accounting_values, columns=['desc', 'amount', 'curr'])\n",
    "b"
   ]
  },
  {
   "cell_type": "code",
   "execution_count": null,
   "metadata": {},
   "outputs": [],
   "source": [
    "c = app.get_available_funds()\n",
    "\n",
    "min_cushion = 500\n",
    "d = c - min_cushion\n",
    "d\n",
    "\n",
    "min_inv_size = 1000\n",
    "e = d / min_inv_size \n",
    "f = math.floor(e)\n",
    "\n",
    "for i in range(f):\n",
    "    print(i)"
   ]
  },
  {
   "cell_type": "code",
   "execution_count": 1,
   "metadata": {},
   "outputs": [],
   "source": [
    "import time\n",
    "\n",
    "def countdown(t):\n",
    "    while t:\n",
    "        mins, secs = divmod(t, 60)\n",
    "        timeformat = '{:02d}:{:02d}'.format(mins, secs)\n",
    "        print(timeformat, end='\\r')\n",
    "        time.sleep(1)\n",
    "        t -= 1\n",
    "    print('Goodbye!\\n\\n\\n\\n\\n')"
   ]
  },
  {
   "cell_type": "code",
   "execution_count": 3,
   "metadata": {},
   "outputs": [
    {
     "name": "stdout",
     "output_type": "stream",
     "text": [
      "Goodbye!\n",
      "\n",
      "\n",
      "\n",
      "\n",
      "\n"
     ]
    }
   ],
   "source": [
    "time.sleep(3)\n",
    "countdown(5)"
   ]
  },
  {
   "cell_type": "markdown",
   "metadata": {},
   "source": [
    "## Original algo code from Quantopian"
   ]
  },
  {
   "cell_type": "code",
   "execution_count": null,
   "metadata": {},
   "outputs": [],
   "source": [
    "# Re-balancing method from 30_stock algo every 10 minutes. Buy order cycles through list of 100 stock selected each day.\n",
    "\n",
    "def my_rebalance(context, data):\n",
    "    buyFactor=.99\n",
    "    SellFactor=1.01\n",
    "    cash=context.portfolio.cash\n",
    "\n",
    "    cancel_open_buy_orders(context, data)\n",
    "\n",
    "    # Order sell at profit target in hope that somebody actually buys it\n",
    "    for stock in context.portfolio.positions:\n",
    "        if not get_open_orders(stock):\n",
    "            StockShares = context.portfolio.positions[stock].amount\n",
    "            CurrPrice = float(data.current([stock], 'price'))\n",
    "            CostBasis = float(context.portfolio.positions[stock].cost_basis)\n",
    "            SellPrice = float(make_div_by_05(CostBasis*SellFactor, buy=False))\n",
    "            \n",
    "            \n",
    "            if np.isnan(SellPrice) :\n",
    "                pass # probably best to wait until nan goes away\n",
    "            elif (stock in context.age and context.age[stock] == 1) :\n",
    "                pass\n",
    "            elif (\n",
    "                stock in context.age \n",
    "                and context.MyFireSaleAge<=context.age[stock] \n",
    "                and (\n",
    "                    context.MyFireSalePrice>CurrPrice\n",
    "                    or CostBasis>CurrPrice\n",
    "                )\n",
    "            ):\n",
    "                if (stock in context.age and context.age[stock] < 2) :\n",
    "                    pass\n",
    "                elif stock not in context.age:\n",
    "                    context.age[stock] = 1\n",
    "                else:\n",
    "                    SellPrice = float(make_div_by_05(.95*CurrPrice, buy=False))\n",
    "                    print(\"Selling {}, \\tshares: {}, \\tprice: {}\".format(stock, StockShares, SellPrice))\n",
    "                    order(stock, -StockShares,\n",
    "                        style=LimitOrder(SellPrice)\n",
    "                    )\n",
    "            else:\n",
    "                if (stock in context.age and context.age[stock] < 2) :\n",
    "                    pass\n",
    "                elif stock not in context.age:\n",
    "                    context.age[stock] = 1\n",
    "                else:\n",
    "                    print(\"Selling {}, \\tshares: {}, \\tprice: {}\".format(stock, StockShares, SellPrice))\n",
    "                    order(stock, -StockShares,\n",
    "                        style=LimitOrder(SellPrice)\n",
    "                    )\n",
    "\n",
    "    WeightThisBuyOrder=float(1.00/context.maxBuyOrdersAtOnce)\n",
    "    for ThisBuyOrder in range(context.maxBuyOrdersAtOnce):\n",
    "        stock = next(context.MyCandidate)\n",
    "        PH = data.history([stock], 'price', 20, '1d')\n",
    "        PH_Avg = float(PH.mean())\n",
    "        CurrPrice = float(data.current([stock], 'price'))\n",
    "        if np.isnan(CurrPrice):\n",
    "            pass # probably best to wait until nan goes away\n",
    "        else:\n",
    "            if CurrPrice > float(1.25*PH_Avg):\n",
    "                BuyPrice=float(CurrPrice)\n",
    "            else:\n",
    "                BuyPrice=float(CurrPrice*buyFactor)\n",
    "            BuyPrice=float(make_div_by_05(BuyPrice, buy=True))\n",
    "            StockShares = int(WeightThisBuyOrder*cash/BuyPrice)\n",
    "            #print(\"Buying {}, \\tshares: {}, \\tprice: {}\".format(stock, StockShares, BuyPrice))\n",
    "            order(stock, StockShares,\n",
    "                style=LimitOrder(BuyPrice)\n",
    "            )"
   ]
  },
  {
   "cell_type": "markdown",
   "metadata": {},
   "source": [
    "## Lesson 1: Create a connection with IB API\n",
    "https://qoppac.blogspot.com/2017/03/interactive-brokers-native-python-api.html\n",
    "\n",
    "## Lesson 2: Get historic data\n",
    "https://qoppac.blogspot.com/2017/03/historic-data-from-native-ib-pyhon-api.html\n",
    "\n",
    "## Lesson 3: Get streaming data\n",
    "https://qoppac.blogspot.com/2017/03/streaming-market-data-from-native.html\n",
    "\n",
    "## Lesson 4: Creating orders\n",
    "https://qoppac.blogspot.com/2017/03/placing-orders-in-native-python-ib-api.html\n",
    "\n",
    "## Lesson 5: Getting portfolio positions and account info\n",
    "https://qoppac.blogspot.com/2017/03/getting-position-and-accounting-data.html"
   ]
  }
 ],
 "metadata": {
  "kernelspec": {
   "display_name": "Python 3",
   "language": "python",
   "name": "python3"
  },
  "language_info": {
   "codemirror_mode": {
    "name": "ipython",
    "version": 3
   },
   "file_extension": ".py",
   "mimetype": "text/x-python",
   "name": "python",
   "nbconvert_exporter": "python",
   "pygments_lexer": "ipython3",
   "version": "3.5.5"
  }
 },
 "nbformat": 4,
 "nbformat_minor": 2
}
