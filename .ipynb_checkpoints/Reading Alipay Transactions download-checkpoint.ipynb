{
 "cells": [
  {
   "cell_type": "code",
   "execution_count": null,
   "metadata": {},
   "outputs": [],
   "source": [
    "from chardet import detect\n",
    "encoding = lambda x: detect(x)['encoding']\n",
    "\n",
    "f = open('/Users/chingaling/Desktop/alipay_record_20181112_1301_1.csv','r')\n",
    "\n",
    "type(f)\n",
    "\n",
    "for line in f:\n",
    "    print encoding(line)\n",
    "f.close()\n",
    "\n",
    "  n_line=unicode(line,encoding(line),errors='ignore')\n",
    "  print n_line\n",
    "  print n_line.encode('utf8')"
   ]
  }
 ],
 "metadata": {
  "kernelspec": {
   "display_name": "Python 3",
   "language": "python",
   "name": "python3"
  },
  "language_info": {
   "codemirror_mode": {
    "name": "ipython",
    "version": 3
   },
   "file_extension": ".py",
   "mimetype": "text/x-python",
   "name": "python",
   "nbconvert_exporter": "python",
   "pygments_lexer": "ipython3",
   "version": "3.5.5"
  }
 },
 "nbformat": 4,
 "nbformat_minor": 2
}
