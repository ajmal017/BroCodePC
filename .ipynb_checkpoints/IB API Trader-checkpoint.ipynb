{
 "cells": [
  {
   "cell_type": "markdown",
   "metadata": {},
   "source": [
    "## Move to python file"
   ]
  },
  {
   "cell_type": "code",
   "execution_count": 1,
   "metadata": {},
   "outputs": [],
   "source": [
    "def create_resolved_ibcontract(stock_to_trade):\n",
    "    # Create the contract object\n",
    "    ibcontract = ib.IBcontract()\n",
    "    ibcontract.secType = \"STK\"\n",
    "    ibcontract.symbol = stock_to_trade\n",
    "    ibcontract.currency = \"USD\"\n",
    "    resolved_ibcontract = app.resolve_ib_contract(ibcontract)\n",
    "    print(resolved_ibcontract)\n",
    "\n",
    "    # TODO: Investigate that we are getting the right stock out of all of the options\n",
    "    return resolved_ibcontract"
   ]
  },
  {
   "cell_type": "code",
   "execution_count": 2,
   "metadata": {},
   "outputs": [],
   "source": [
    "def get_latest_price(resolved_ibcontract):\n",
    "    \n",
    "    # Get the last price\n",
    "    tickerid = app.start_getting_IB_market_data(resolved_ibcontract)\n",
    "    time.sleep(1)\n",
    "    market_data1 = app.stop_getting_IB_market_data(tickerid)\n",
    "    market_data1_as_df = market_data1.as_pdDataFrame()\n",
    "    display(market_data1_as_df.resample(\"1S\").last())\n",
    "    some_quotes = market_data1_as_df.resample(\"1S\").last()[[\"last_trade_price\"]]\n",
    "    current_price = some_quotes.iloc[0][0]\n",
    "    print(current_price)\n",
    "    \n",
    "    return current_price\n",
    "    # TODO: Skip this stock if price comes back as nan"
   ]
  },
  {
   "cell_type": "markdown",
   "metadata": {},
   "source": [
    "## Reading my Chinese Alipay file. Not related to algo"
   ]
  },
  {
   "cell_type": "code",
   "execution_count": null,
   "metadata": {},
   "outputs": [],
   "source": [
    "from chardet import detect\n",
    "encoding = lambda x: detect(x)['encoding']"
   ]
  },
  {
   "cell_type": "code",
   "execution_count": null,
   "metadata": {},
   "outputs": [],
   "source": [
    "f = open('/Users/chingaling/Desktop/alipay_record_20181112_1301_1.csv','r')"
   ]
  },
  {
   "cell_type": "code",
   "execution_count": null,
   "metadata": {},
   "outputs": [],
   "source": [
    "type(f)"
   ]
  },
  {
   "cell_type": "code",
   "execution_count": null,
   "metadata": {},
   "outputs": [],
   "source": [
    "for line in f:\n",
    "    print encoding(line)\n",
    "f.close()"
   ]
  },
  {
   "cell_type": "code",
   "execution_count": null,
   "metadata": {},
   "outputs": [],
   "source": [
    "  n_line=unicode(line,encoding(line),errors='ignore')\n",
    "  print n_line\n",
    "  print n_line.encode('utf8')"
   ]
  },
  {
   "cell_type": "markdown",
   "metadata": {},
   "source": [
    "## Beginning of algo playground"
   ]
  },
  {
   "cell_type": "code",
   "execution_count": 3,
   "metadata": {},
   "outputs": [],
   "source": [
    "import sys\n",
    "sys.path.insert(0, '/Users/chingaling/Documents/Algo Trading/BroCodePC')\n",
    "import IB_API_tutorial as ib\n",
    "import main as m\n",
    "import time\n",
    "import pandas as pd\n",
    "import numpy as np\n",
    "import math\n",
    "import datetime\n",
    "from itertools import cycle"
   ]
  },
  {
   "cell_type": "code",
   "execution_count": null,
   "metadata": {},
   "outputs": [],
   "source": [
    "from importlib import reload\n",
    "reload (ib)"
   ]
  },
  {
   "cell_type": "code",
   "execution_count": null,
   "metadata": {},
   "outputs": [],
   "source": [
    "sys.path.insert(0, '/Users/chingaling/Documents/Algo Trading/RobCarver')\n",
    "import L3StreamData"
   ]
  },
  {
   "cell_type": "markdown",
   "metadata": {},
   "source": [
    "## Create some global variables and open connection"
   ]
  },
  {
   "cell_type": "code",
   "execution_count": 24,
   "metadata": {},
   "outputs": [],
   "source": [
    "app.disconnect()"
   ]
  },
  {
   "cell_type": "code",
   "execution_count": 4,
   "metadata": {},
   "outputs": [],
   "source": [
    "port = 7496\n",
    "ip = \"127.0.0.1\"\n",
    "clientID = 1\n",
    "buyFactor = .99\n",
    "SellFactor = 1.01\n",
    "rebalance_interval = 10\n",
    "maxBuyOrdersAtOnce = 30\n",
    "minInvSize = 1000\n",
    "stock_list = []\n",
    "maxCandidates=100\n",
    "leastPrice=3.00\n",
    "mostPrice=20.00\n",
    "fireSalePrice = leastPrice\n",
    "fireSaleAge = 6\n",
    "\n",
    "# Start orderid at a random number. Currently having trouble with getting orderid from server. (\n",
    "# (It seems to shut down my connection)\n",
    "orderid = 101\n",
    "\n",
    "# Local file addresses\n",
    "csvAddress_stocks_to_trade = \"/Users/chingaling/Documents/Algo Trading/BroCodePC/stocks_to_trade.csv\"\n",
    "csvAddress_orders = \"/Users/chingaling/Documents/Algo Trading/BroCodePC/orders.csv\"\n",
    "pklAdd_orders = \"/Users/chingaling/Documents/Algo Trading/BroCodePC/orders.pkl\""
   ]
  },
  {
   "cell_type": "code",
   "execution_count": 5,
   "metadata": {},
   "outputs": [
    {
     "name": "stdout",
     "output_type": "stream",
     "text": [
      "Getting the time from the server... \n",
      "IB error id -1 errorcode 2104 string Market data farm connection is OK:njcash\n",
      "IB error id -1 errorcode 2104 string Market data farm connection is OK:hfarm\n",
      "IB error id -1 errorcode 2104 string Market data farm connection is OK:usfuture\n",
      "IB error id -1 errorcode 2104 string Market data farm connection is OK:jfarm\n",
      "IB error id -1 errorcode 2104 string Market data farm connection is OK:eufarm\n",
      "IB error id -1 errorcode 2104 string Market data farm connection is OK:njfarm\n",
      "IB error id -1 errorcode 2104 string Market data farm connection is OK:usfarm.us\n",
      "IB error id -1 errorcode 2106 string HMDS data farm connection is OK:ilhmds\n",
      "IB error id -1 errorcode 2106 string HMDS data farm connection is OK:euhmds\n",
      "IB error id -1 errorcode 2106 string HMDS data farm connection is OK:fundfarm\n",
      "IB error id -1 errorcode 2106 string HMDS data farm connection is OK:ushmds\n",
      "1542390190\n"
     ]
    }
   ],
   "source": [
    "# Test connection\n",
    "#clientID = 2\n",
    "app = ib.TestApp(ip, port, clientID)\n",
    "current_time = app.speaking_clock()\n",
    "print(current_time)"
   ]
  },
  {
   "cell_type": "code",
   "execution_count": 24,
   "metadata": {},
   "outputs": [
    {
     "name": "stdout",
     "output_type": "stream",
     "text": [
      "Getting full contract details from the server... \n",
      "got multiple contracts using first one\n"
     ]
    },
    {
     "data": {
      "text/plain": [
       "4394077320: 324062330,TBIO,STK,,0.0,,,SMART,NASDAQ,USD,TBIO,NMS,False,,combo:"
      ]
     },
     "execution_count": 24,
     "metadata": {},
     "output_type": "execute_result"
    }
   ],
   "source": [
    "# Contract details to edit\n",
    "ibcontract = ib.IBcontract()\n",
    "ibcontract.secType = \"STK\"\n",
    "ibcontract.symbol=\"TBIO\"\n",
    "ibcontract.currency = \"USD\"\n",
    "resolved_ibcontract = app.resolve_ib_contract(ibcontract)\n",
    "resolved_ibcontract"
   ]
  },
  {
   "cell_type": "code",
   "execution_count": 7,
   "metadata": {
    "scrolled": true
   },
   "outputs": [
    {
     "name": "stdout",
     "output_type": "stream",
     "text": [
      "Getting historical data from the server... could take 20 seconds to complete \n"
     ]
    }
   ],
   "source": [
    "historic_data = app.get_IB_historical_data(resolved_ibcontract)\n",
    "historic_data"
   ]
  },
  {
   "cell_type": "code",
   "execution_count": 42,
   "metadata": {},
   "outputs": [
    {
     "name": "stdout",
     "output_type": "stream",
     "text": [
      "Getting historical data from the server... could take 20 seconds to complete \n"
     ]
    }
   ],
   "source": [
    "PH = app.get_IB_historical_data(resolved_ibcontract, durationStr='20 D')"
   ]
  },
  {
   "cell_type": "code",
   "execution_count": 54,
   "metadata": {},
   "outputs": [],
   "source": [
    "PH_df = pd.DataFrame(PH, columns=['date', 'open', 'high', 'low', 'close', 'volume'])"
   ]
  },
  {
   "cell_type": "code",
   "execution_count": 59,
   "metadata": {},
   "outputs": [
    {
     "data": {
      "text/plain": [
       "9.802750000000001"
      ]
     },
     "execution_count": 59,
     "metadata": {},
     "output_type": "execute_result"
    }
   ],
   "source": [
    "PH_df.close.mean()"
   ]
  },
  {
   "cell_type": "code",
   "execution_count": null,
   "metadata": {},
   "outputs": [],
   "source": [
    "print(historic_data[-5:-1])"
   ]
  },
  {
   "cell_type": "markdown",
   "metadata": {},
   "source": [
    "## Making buy orders"
   ]
  },
  {
   "cell_type": "code",
   "execution_count": 75,
   "metadata": {},
   "outputs": [],
   "source": [
    "def submit_buy_order(stock_to_trade):\n",
    "    #if stock_to_trade in positions:\n",
    "        #TODO: Check if this is actually a criteria in the Quantopian model\n",
    "        #pass \n",
    "    resolved_ibcontract = create_resolved_ibcontract(stock_to_trade)\n",
    "    PH = app.get_IB_historical_data(resolved_ibcontract, durationStr='20 D')\n",
    "    PH_df = pd.DataFrame(PH, columns=['date', 'open', 'high', 'low', 'close', 'volume'])\n",
    "    PH_Avg = float(PH_df.close.mean())\n",
    "    current_price = float(get_latest_price(resolved_ibcontract))\n",
    "    if np.isnan(current_price):\n",
    "        pass # probably best to wait until nan goes away\n",
    "    else:\n",
    "        if current_price > float(1.25*PH_Avg):\n",
    "            buyPrice=float(current_price)\n",
    "        else:\n",
    "            buyPrice=float(current_price*buyFactor)\n",
    "        buyPrice=float(ib.make_div_by_05(buyPrice, buy=True))\n",
    "        #StockShares = int(WeightThisBuyOrder*cash/buyPrice)\n",
    "        StockShares = int(minInvSize/buyPrice)\n",
    "        print(\"Buying {}, \\tshares: {}, \\tprice: {}\".format(stock_to_trade, StockShares, buyPrice))\n",
    "\n",
    "        # Submit the buy order and log the order\n",
    "        orderid = app.submit_order(resolved_ibcontract=resolved_ibcontract, action=\"BUY\", shares=StockShares, price=buyPrice, order_type=\"LMT\", orderid=None, tif=\"GTC\")\n",
    "        order_pd = app.add_order_entry(orderid, pklAdd_orders=pklAdd_orders, csvAddress_orders=csvAddress_orders)"
   ]
  },
  {
   "cell_type": "code",
   "execution_count": 73,
   "metadata": {},
   "outputs": [],
   "source": [
    "def rebalance_buy_orders():\n",
    "    WeightThisBuyOrder=float(1.00/maxBuyOrdersAtOnce)\n",
    "    for ThisBuyOrder in range(maxBuyOrdersAtOnce):\n",
    "        stock_to_trade = next(nextStock)\n",
    "        submit_buy_order(stock_to_trade)\n",
    "        "
   ]
  },
  {
   "cell_type": "code",
   "execution_count": 71,
   "metadata": {},
   "outputs": [
    {
     "name": "stdout",
     "output_type": "stream",
     "text": [
      "Trading this stock: EYEN\n"
     ]
    }
   ],
   "source": [
    "# Contract details to edit\n",
    "stock_to_trade = next(nextStock)\n",
    "print(\"Trading this stock: {}\".format(stock_to_trade))\n",
    "\n",
    "# TODO: Check to see if this stock is already on the order list, or within the portfolio. Or if it's been traded already today (like sold). If so, skip to the next one."
   ]
  },
  {
   "cell_type": "code",
   "execution_count": 74,
   "metadata": {},
   "outputs": [
    {
     "name": "stdout",
     "output_type": "stream",
     "text": [
      "Getting full contract details from the server... \n",
      "got multiple contracts using first one\n",
      "304278092,EYEN,STK,,0.0,,,SMART,NASDAQ,USD,EYEN,SCM,False,,combo:\n",
      "Getting historical data from the server... could take 20 seconds to complete \n",
      "IB error id 50 errorcode 366 string No historical data query found for ticker id:50\n"
     ]
    },
    {
     "data": {
      "text/html": [
       "<div>\n",
       "<style scoped>\n",
       "    .dataframe tbody tr th:only-of-type {\n",
       "        vertical-align: middle;\n",
       "    }\n",
       "\n",
       "    .dataframe tbody tr th {\n",
       "        vertical-align: top;\n",
       "    }\n",
       "\n",
       "    .dataframe thead th {\n",
       "        text-align: right;\n",
       "    }\n",
       "</style>\n",
       "<table border=\"1\" class=\"dataframe\">\n",
       "  <thead>\n",
       "    <tr style=\"text-align: right;\">\n",
       "      <th></th>\n",
       "      <th>ask_price</th>\n",
       "      <th>ask_size</th>\n",
       "      <th>bid_price</th>\n",
       "      <th>bid_size</th>\n",
       "      <th>last_trade_price</th>\n",
       "      <th>last_trade_size</th>\n",
       "    </tr>\n",
       "  </thead>\n",
       "  <tbody>\n",
       "    <tr>\n",
       "      <th>2018-11-16 01:45:24</th>\n",
       "      <td>3.3</td>\n",
       "      <td>6.0</td>\n",
       "      <td>3.05</td>\n",
       "      <td>1.0</td>\n",
       "      <td>3.16</td>\n",
       "      <td>1.0</td>\n",
       "    </tr>\n",
       "  </tbody>\n",
       "</table>\n",
       "</div>"
      ],
      "text/plain": [
       "                     ask_price  ask_size  bid_price  bid_size  \\\n",
       "2018-11-16 01:45:24        3.3       6.0       3.05       1.0   \n",
       "\n",
       "                     last_trade_price  last_trade_size  \n",
       "2018-11-16 01:45:24              3.16              1.0  "
      ]
     },
     "metadata": {},
     "output_type": "display_data"
    },
    {
     "name": "stdout",
     "output_type": "stream",
     "text": [
      "3.16\n"
     ]
    },
    {
     "ename": "NameError",
     "evalue": "name 'BuyPrice' is not defined",
     "output_type": "error",
     "traceback": [
      "\u001b[0;31m---------------------------------------------------------------------------\u001b[0m",
      "\u001b[0;31mNameError\u001b[0m                                 Traceback (most recent call last)",
      "\u001b[0;32m<ipython-input-74-67b3ef7a015d>\u001b[0m in \u001b[0;36m<module>\u001b[0;34m()\u001b[0m\n\u001b[0;32m----> 1\u001b[0;31m \u001b[0msubmit_buy_order\u001b[0m\u001b[0;34m(\u001b[0m\u001b[0mstock_to_trade\u001b[0m\u001b[0;34m)\u001b[0m\u001b[0;34m\u001b[0m\u001b[0m\n\u001b[0m",
      "\u001b[0;32m<ipython-input-72-deb39b13c44c>\u001b[0m in \u001b[0;36msubmit_buy_order\u001b[0;34m(stock_to_trade)\u001b[0m\n\u001b[1;32m     17\u001b[0m         \u001b[0mbuyPrice\u001b[0m\u001b[0;34m=\u001b[0m\u001b[0mfloat\u001b[0m\u001b[0;34m(\u001b[0m\u001b[0mib\u001b[0m\u001b[0;34m.\u001b[0m\u001b[0mmake_div_by_05\u001b[0m\u001b[0;34m(\u001b[0m\u001b[0mbuyPrice\u001b[0m\u001b[0;34m,\u001b[0m \u001b[0mbuy\u001b[0m\u001b[0;34m=\u001b[0m\u001b[0;32mTrue\u001b[0m\u001b[0;34m)\u001b[0m\u001b[0;34m)\u001b[0m\u001b[0;34m\u001b[0m\u001b[0m\n\u001b[1;32m     18\u001b[0m         \u001b[0;31m#StockShares = int(WeightThisBuyOrder*cash/BuyPrice)\u001b[0m\u001b[0;34m\u001b[0m\u001b[0;34m\u001b[0m\u001b[0m\n\u001b[0;32m---> 19\u001b[0;31m         \u001b[0mStockShares\u001b[0m \u001b[0;34m=\u001b[0m \u001b[0mint\u001b[0m\u001b[0;34m(\u001b[0m\u001b[0mminInvSize\u001b[0m\u001b[0;34m/\u001b[0m\u001b[0mBuyPrice\u001b[0m\u001b[0;34m)\u001b[0m\u001b[0;34m\u001b[0m\u001b[0m\n\u001b[0m\u001b[1;32m     20\u001b[0m         \u001b[0mprint\u001b[0m\u001b[0;34m(\u001b[0m\u001b[0;34m\"Buying {}, \\tshares: {}, \\tprice: {}\"\u001b[0m\u001b[0;34m.\u001b[0m\u001b[0mformat\u001b[0m\u001b[0;34m(\u001b[0m\u001b[0mstock_to_trade\u001b[0m\u001b[0;34m,\u001b[0m \u001b[0mStockShares\u001b[0m\u001b[0;34m,\u001b[0m \u001b[0mBuyPrice\u001b[0m\u001b[0;34m)\u001b[0m\u001b[0;34m)\u001b[0m\u001b[0;34m\u001b[0m\u001b[0m\n\u001b[1;32m     21\u001b[0m \u001b[0;34m\u001b[0m\u001b[0m\n",
      "\u001b[0;31mNameError\u001b[0m: name 'BuyPrice' is not defined"
     ]
    }
   ],
   "source": [
    "submit_buy_order(stock_to_trade)"
   ]
  },
  {
   "cell_type": "code",
   "execution_count": 67,
   "metadata": {},
   "outputs": [
    {
     "name": "stdout",
     "output_type": "stream",
     "text": [
      "Getting full contract details from the server... \n",
      "got multiple contracts using first one\n",
      "300465612,CUE,STK,,0.0,,,SMART,NASDAQ,USD,CUE,SCM,False,,combo:\n",
      "Getting historical data from the server... could take 20 seconds to complete \n",
      "IB error id 50 errorcode 366 string No historical data query found for ticker id:50\n"
     ]
    },
    {
     "data": {
      "text/html": [
       "<div>\n",
       "<style scoped>\n",
       "    .dataframe tbody tr th:only-of-type {\n",
       "        vertical-align: middle;\n",
       "    }\n",
       "\n",
       "    .dataframe tbody tr th {\n",
       "        vertical-align: top;\n",
       "    }\n",
       "\n",
       "    .dataframe thead th {\n",
       "        text-align: right;\n",
       "    }\n",
       "</style>\n",
       "<table border=\"1\" class=\"dataframe\">\n",
       "  <thead>\n",
       "    <tr style=\"text-align: right;\">\n",
       "      <th></th>\n",
       "      <th>ask_price</th>\n",
       "      <th>ask_size</th>\n",
       "      <th>bid_price</th>\n",
       "      <th>bid_size</th>\n",
       "      <th>last_trade_price</th>\n",
       "      <th>last_trade_size</th>\n",
       "    </tr>\n",
       "  </thead>\n",
       "  <tbody>\n",
       "    <tr>\n",
       "      <th>2018-11-16 01:42:27</th>\n",
       "      <td>5.84</td>\n",
       "      <td>7.0</td>\n",
       "      <td>5.78</td>\n",
       "      <td>4.0</td>\n",
       "      <td>5.82</td>\n",
       "      <td>1.0</td>\n",
       "    </tr>\n",
       "  </tbody>\n",
       "</table>\n",
       "</div>"
      ],
      "text/plain": [
       "                     ask_price  ask_size  bid_price  bid_size  \\\n",
       "2018-11-16 01:42:27       5.84       7.0       5.78       4.0   \n",
       "\n",
       "                     last_trade_price  last_trade_size  \n",
       "2018-11-16 01:42:27              5.82              1.0  "
      ]
     },
     "metadata": {},
     "output_type": "display_data"
    },
    {
     "name": "stdout",
     "output_type": "stream",
     "text": [
      "5.82\n"
     ]
    },
    {
     "ename": "NameError",
     "evalue": "name 'buyFactor' is not defined",
     "output_type": "error",
     "traceback": [
      "\u001b[0;31m---------------------------------------------------------------------------\u001b[0m",
      "\u001b[0;31mNameError\u001b[0m                                 Traceback (most recent call last)",
      "\u001b[0;32m<ipython-input-67-65aa3e191caa>\u001b[0m in \u001b[0;36m<module>\u001b[0;34m()\u001b[0m\n\u001b[0;32m----> 1\u001b[0;31m \u001b[0mrebalance_buy_orders\u001b[0m\u001b[0;34m(\u001b[0m\u001b[0;34m)\u001b[0m\u001b[0;34m\u001b[0m\u001b[0m\n\u001b[0m",
      "\u001b[0;32m<ipython-input-66-b931f5fcd32f>\u001b[0m in \u001b[0;36mrebalance_buy_orders\u001b[0;34m()\u001b[0m\n\u001b[1;32m     17\u001b[0m                 \u001b[0mbuyPrice\u001b[0m\u001b[0;34m=\u001b[0m\u001b[0mfloat\u001b[0m\u001b[0;34m(\u001b[0m\u001b[0mcurrent_price\u001b[0m\u001b[0;34m)\u001b[0m\u001b[0;34m\u001b[0m\u001b[0m\n\u001b[1;32m     18\u001b[0m             \u001b[0;32melse\u001b[0m\u001b[0;34m:\u001b[0m\u001b[0;34m\u001b[0m\u001b[0m\n\u001b[0;32m---> 19\u001b[0;31m                 \u001b[0mbuyPrice\u001b[0m\u001b[0;34m=\u001b[0m\u001b[0mfloat\u001b[0m\u001b[0;34m(\u001b[0m\u001b[0mcurrent_price\u001b[0m\u001b[0;34m*\u001b[0m\u001b[0mbuyFactor\u001b[0m\u001b[0;34m)\u001b[0m\u001b[0;34m\u001b[0m\u001b[0m\n\u001b[0m\u001b[1;32m     20\u001b[0m             \u001b[0mbuyPrice\u001b[0m\u001b[0;34m=\u001b[0m\u001b[0mfloat\u001b[0m\u001b[0;34m(\u001b[0m\u001b[0mib\u001b[0m\u001b[0;34m.\u001b[0m\u001b[0mmake_div_by_05\u001b[0m\u001b[0;34m(\u001b[0m\u001b[0mbuyPrice\u001b[0m\u001b[0;34m,\u001b[0m \u001b[0mbuy\u001b[0m\u001b[0;34m=\u001b[0m\u001b[0;32mTrue\u001b[0m\u001b[0;34m)\u001b[0m\u001b[0;34m)\u001b[0m\u001b[0;34m\u001b[0m\u001b[0m\n\u001b[1;32m     21\u001b[0m             \u001b[0;31m#StockShares = int(WeightThisBuyOrder*cash/BuyPrice)\u001b[0m\u001b[0;34m\u001b[0m\u001b[0;34m\u001b[0m\u001b[0m\n",
      "\u001b[0;31mNameError\u001b[0m: name 'buyFactor' is not defined"
     ]
    }
   ],
   "source": [
    "rebalance_buy_orders()"
   ]
  },
  {
   "cell_type": "code",
   "execution_count": 27,
   "metadata": {
    "collapsed": true
   },
   "outputs": [
    {
     "data": {
      "text/plain": [
       "['BXG',\n",
       " 'SBT',\n",
       " 'FTNW',\n",
       " 'CUE',\n",
       " 'EYEN',\n",
       " 'MNLO',\n",
       " 'MOTS',\n",
       " 'BTAI',\n",
       " 'LAZY',\n",
       " 'EVLO',\n",
       " 'KNSA',\n",
       " 'CLPS',\n",
       " 'TBIO',\n",
       " 'MGTA',\n",
       " 'MYFW',\n",
       " 'CNST',\n",
       " 'SIC',\n",
       " 'ETTX',\n",
       " 'UROV',\n",
       " 'PHAS',\n",
       " 'VOC',\n",
       " 'SAEX',\n",
       " 'NTRP',\n",
       " 'TPHS',\n",
       " 'LOOP',\n",
       " 'WHLR',\n",
       " 'AEYE',\n",
       " 'BCRH',\n",
       " 'AGFS',\n",
       " 'MGEN',\n",
       " 'TSQ',\n",
       " 'ICD',\n",
       " 'LMB',\n",
       " 'XELA',\n",
       " 'RKDA',\n",
       " 'ANIX',\n",
       " 'SYBX',\n",
       " 'CRVS',\n",
       " 'ROSE',\n",
       " 'SBPH',\n",
       " 'MRUS',\n",
       " 'SYRS',\n",
       " 'APVO',\n",
       " 'SRTS',\n",
       " 'ATOM',\n",
       " 'IEA',\n",
       " 'AZRE',\n",
       " 'KEG',\n",
       " 'LPTX',\n",
       " 'METC',\n",
       " 'FBM',\n",
       " 'OVID',\n",
       " 'ASV',\n",
       " 'PLYM',\n",
       " 'MRSN',\n",
       " 'CLXT',\n",
       " 'SNNA',\n",
       " 'NRCG',\n",
       " 'MBIO',\n",
       " 'ALNA',\n",
       " 'ACU',\n",
       " 'AP',\n",
       " 'CVV',\n",
       " 'ENZ',\n",
       " 'NL',\n",
       " 'PHII',\n",
       " 'SYNL',\n",
       " 'SHLO',\n",
       " 'HHS',\n",
       " 'SGMA',\n",
       " 'VVUS',\n",
       " 'TESS',\n",
       " 'DWSN',\n",
       " 'IMH',\n",
       " 'TACT',\n",
       " 'DAVE',\n",
       " 'RDCM',\n",
       " 'CMLS',\n",
       " 'MBOT',\n",
       " 'QBAK',\n",
       " 'HBIO',\n",
       " 'OMEX',\n",
       " 'HOS',\n",
       " 'AWSM',\n",
       " 'MNTX',\n",
       " 'TREC',\n",
       " 'APEN',\n",
       " 'TENX',\n",
       " 'BCLI',\n",
       " 'HWCC',\n",
       " 'MVO',\n",
       " 'TA',\n",
       " 'FNJN',\n",
       " 'ISDR',\n",
       " 'MHH',\n",
       " 'MG',\n",
       " 'TCCO',\n",
       " 'ASPU',\n",
       " 'GEVO',\n",
       " 'SVVC']"
      ]
     },
     "execution_count": 27,
     "metadata": {},
     "output_type": "execute_result"
    }
   ],
   "source": [
    "# Load list of stocks to trade and create cycle object\n",
    "stockNames = list(pd.read_csv(csvAddress_stocks_to_trade).Stocks)\n",
    "nextStock = cycle(stockNames)\n",
    "stockNames"
   ]
  },
  {
   "cell_type": "code",
   "execution_count": 40,
   "metadata": {},
   "outputs": [
    {
     "name": "stdout",
     "output_type": "stream",
     "text": [
      "Getting full contract details from the server... \n",
      "got multiple contracts using first one\n",
      "296466069,SBT,STK,,0.0,,,SMART,NASDAQ,USD,SBT,SCM,False,,combo:\n"
     ]
    }
   ],
   "source": [
    "resolved_ibcontract = create_resolved_ibcontract(stock_to_trade)"
   ]
  },
  {
   "cell_type": "code",
   "execution_count": 21,
   "metadata": {},
   "outputs": [
    {
     "name": "stdout",
     "output_type": "stream",
     "text": [
      "IB error id -1 errorcode 2108 string Market data farm connection is inactive but should be available upon demand.njcash\n",
      "IB error id -1 errorcode 2108 string Market data farm connection is inactive but should be available upon demand.njcash\n",
      "IB error id -1 errorcode 2108 string Market data farm connection is inactive but should be available upon demand.hfarm\n",
      "IB error id -1 errorcode 2108 string Market data farm connection is inactive but should be available upon demand.hfarm\n",
      "IB error id -1 errorcode 2108 string Market data farm connection is inactive but should be available upon demand.jfarm\n",
      "IB error id -1 errorcode 2108 string Market data farm connection is inactive but should be available upon demand.jfarm\n"
     ]
    },
    {
     "data": {
      "text/html": [
       "<div>\n",
       "<style scoped>\n",
       "    .dataframe tbody tr th:only-of-type {\n",
       "        vertical-align: middle;\n",
       "    }\n",
       "\n",
       "    .dataframe tbody tr th {\n",
       "        vertical-align: top;\n",
       "    }\n",
       "\n",
       "    .dataframe thead th {\n",
       "        text-align: right;\n",
       "    }\n",
       "</style>\n",
       "<table border=\"1\" class=\"dataframe\">\n",
       "  <thead>\n",
       "    <tr style=\"text-align: right;\">\n",
       "      <th></th>\n",
       "      <th>ask_price</th>\n",
       "      <th>ask_size</th>\n",
       "      <th>bid_price</th>\n",
       "      <th>bid_size</th>\n",
       "      <th>last_trade_price</th>\n",
       "      <th>last_trade_size</th>\n",
       "    </tr>\n",
       "  </thead>\n",
       "  <tbody>\n",
       "    <tr>\n",
       "      <th>2018-11-17 01:53:06</th>\n",
       "      <td>193.71</td>\n",
       "      <td>3.0</td>\n",
       "      <td>193.68</td>\n",
       "      <td>2.0</td>\n",
       "      <td>193.71</td>\n",
       "      <td>1.0</td>\n",
       "    </tr>\n",
       "  </tbody>\n",
       "</table>\n",
       "</div>"
      ],
      "text/plain": [
       "                     ask_price  ask_size  bid_price  bid_size  \\\n",
       "2018-11-17 01:53:06     193.71       3.0     193.68       2.0   \n",
       "\n",
       "                     last_trade_price  last_trade_size  \n",
       "2018-11-17 01:53:06            193.71              1.0  "
      ]
     },
     "metadata": {},
     "output_type": "display_data"
    },
    {
     "name": "stdout",
     "output_type": "stream",
     "text": [
      "193.71\n"
     ]
    }
   ],
   "source": [
    "current_price = get_latest_price(resolved_ibcontract)"
   ]
  },
  {
   "cell_type": "code",
   "execution_count": 8,
   "metadata": {},
   "outputs": [
    {
     "name": "stdout",
     "output_type": "stream",
     "text": [
      "buy_price: 12.0\n",
      "buy_amount: 166\n"
     ]
    }
   ],
   "source": [
    "# Find the price to buy and amount\n",
    "buy_price = current_price * buyFactor\n",
    "buy_price=float(ib.make_div_by_05(buy_price, buy=True))\n",
    "print(\"buy_price: {}\".format(buy_price))\n",
    "buy_amount = math.floor(minInvSize/buy_price)\n",
    "print(\"buy_amount: {}\".format(buy_amount))"
   ]
  },
  {
   "cell_type": "code",
   "execution_count": 9,
   "metadata": {},
   "outputs": [
    {
     "name": "stdout",
     "output_type": "stream",
     "text": [
      "App is connected?: True\n",
      "Getting orderid from IB\n",
      "Using order id of 18\n",
      "Placed order, orderid is 18\n"
     ]
    }
   ],
   "source": [
    "# Submit the buy order and log the order\n",
    "orderid = app.submit_order(resolved_ibcontract=resolved_ibcontract, action=\"BUY\", shares=buy_amount, price=buy_price, order_type=\"LMT\", orderid=None, tif=\"GTC\")\n",
    "order_pd = app.add_order_entry(orderid, pklAdd_orders=pklAdd_orders, csvAddress_orders=csvAddress_orders)"
   ]
  },
  {
   "cell_type": "markdown",
   "metadata": {},
   "source": [
    "## Cancelling buy orders"
   ]
  },
  {
   "cell_type": "code",
   "execution_count": 10,
   "metadata": {},
   "outputs": [
    {
     "name": "stdout",
     "output_type": "stream",
     "text": [
      "Cancelling this order: avgFillPrice                                                     0\n",
      "clientId                                                         1\n",
      "contract         296320248,BXG,STK,,0.0,?,,SMART,,USD,BXG,BXG,F...\n",
      "filled                                                           0\n",
      "lastFillPrice                                                    0\n",
      "mktCapPrice                                                      0\n",
      "order                    18,1,581711839: LMT BUY 166@12.000000 GTC\n",
      "orderstate       <ibapi.order_state.OrderState object at 0x113a...\n",
      "parentId                                                         0\n",
      "permid                                                   581711839\n",
      "status                                                   Submitted\n",
      "whyHeld                                                           \n",
      "Name: 0, dtype: object\n",
      "18\n",
      "IB error id 18 errorcode 202 string Order Canceled - reason:\n"
     ]
    }
   ],
   "source": [
    "# Cancel all open buy orders\n",
    "app.cancel_open_buy_orders()"
   ]
  },
  {
   "cell_type": "code",
   "execution_count": null,
   "metadata": {},
   "outputs": [],
   "source": [
    "abs(order_pd.time_added[0] - datetime.datetime.now()) > datetime.timedelta(minutes=10)"
   ]
  },
  {
   "cell_type": "code",
   "execution_count": null,
   "metadata": {},
   "outputs": [],
   "source": [
    "a = pd.read_pickle(pklAdd_orders)"
   ]
  },
  {
   "cell_type": "code",
   "execution_count": null,
   "metadata": {},
   "outputs": [],
   "source": [
    "a"
   ]
  },
  {
   "cell_type": "markdown",
   "metadata": {},
   "source": [
    "## Submitting sell orders"
   ]
  },
  {
   "cell_type": "code",
   "execution_count": null,
   "metadata": {},
   "outputs": [],
   "source": [
    "def connect(self):\n",
    "    self.app = ib.TestApp(ip, port, clientID)"
   ]
  },
  {
   "cell_type": "code",
   "execution_count": null,
   "metadata": {},
   "outputs": [],
   "source": [
    "def main_trading():\n",
    "    # Here goes all of the code to run throughout the trading day\n",
    "\n",
    "    #Before trading day starts, load up list of stock candidates\n",
    "    self.stock_list = generate_stock_shortlist()\n",
    "\n",
    "    #TODO: Every rebalance_interval minutes, rebalance the portfolio\n",
    "    while (current_time < end_trading_day):\n",
    "        \n",
    "        # Connect to the IB API for every rebalancing\n",
    "        app = ib.TestApp(\"127.0.0.1\", port, 1)\n",
    "        rebalance(buyFactor=buyFactor, SellFactor=SellFactor)\n",
    "        \n",
    "        # At the end of the day, disconnect from the IB API app\n",
    "        app.disconnect()\n",
    "        \n",
    "        # Wait for the rebalance_interval time (in minutes)\n",
    "        time.wait(rebalance_interval * 60)"
   ]
  },
  {
   "cell_type": "code",
   "execution_count": null,
   "metadata": {},
   "outputs": [],
   "source": [
    "def rebalance(buyFactor=.99, SellFactor=1.01):\n",
    "    # Re-balancing method from 30_stock algo every 10 minutes. Buy order cycles through list of 100 stock selected each day.\n",
    "\n",
    "    # Get outstanding buying power from account\n",
    "    cash=get_buying_power()\n",
    "\n",
    "    # Close out all outstanding buy orders that were not fulfilled. Should be most of them\n",
    "    cancel_open_buy_orders()\n",
    "\n",
    "    # Get list of current positions\n",
    "    positions = get_current_positions()\n",
    "\n",
    "    # Create new sell orders as per algo strategy\n",
    "    rebalance_all_sell_orders()\n",
    "\n",
    "    # Submit new buy orders\n",
    "    if cash > minInvSize:\n",
    "        rebalance_buy_orders()"
   ]
  },
  {
   "cell_type": "code",
   "execution_count": null,
   "metadata": {},
   "outputs": [],
   "source": [
    "# Retrieve information from IB server\n",
    "def get_buying_power(self):\n",
    "    #TODO: Retrieve remaining buying power from account\n",
    "    accounting_values = app.get_accounting_values(accountName)\n",
    "    \n",
    "    pass"
   ]
  },
  {
   "cell_type": "code",
   "execution_count": null,
   "metadata": {},
   "outputs": [],
   "source": [
    "def get_current_positions(self):\n",
    "    #TODO: Retrieve list of current positions by stock symbol\n",
    "    positions_list = app.get_current_positions()\n",
    "    pass"
   ]
  },
  {
   "cell_type": "code",
   "execution_count": null,
   "metadata": {},
   "outputs": [],
   "source": [
    "def get_open_sell_orders(self):\n",
    "    #TODO: Retrieve list of all open sell orders:\n",
    "\n",
    "    pass"
   ]
  },
  {
   "cell_type": "code",
   "execution_count": null,
   "metadata": {},
   "outputs": [],
   "source": [
    "def generate_stock_shortlist(self):\n",
    "\n",
    "    # Return list of stocks to trade for the day\n",
    "    csvAddress = \"/Users/chingaling/Documents/Algo Trading/BroCodePC/stocks_to_trade.csv\"\n",
    "    self.stock_list = list(pd.read_csv(csvAddress).Stocks)\n",
    "    self.nextStock = cycle(stockNames)"
   ]
  },
  {
   "cell_type": "code",
   "execution_count": null,
   "metadata": {},
   "outputs": [],
   "source": [
    "# Logging order entry\n",
    "def add_order_entry(orderid):\n",
    "    # Add a new log entry (somewhere, either CSV, cloud database, etc.) keeping track of all order detail\n",
    "    \n",
    "    # Get open orders\n",
    "    open_orders = app.get_open_orders()\n",
    "    order_attributes = ['contract','order','orderstate','status',\n",
    "                 'filled', 'avgFillPrice', 'permid',\n",
    "                 'parentId', 'lastFillPrice', 'clientId', 'whyHeld',\n",
    "                'mktCapPrice']\n",
    "    attributes = {}\n",
    "    order_pd_base = pd.read_pickle(pklAdd_orders)\n",
    "    if orderid in open_orders:\n",
    "        orderInformation = open_orders[orderid]\n",
    "        for attr in order_attributes:\n",
    "            attributes[attr] = getattr(orderInformation, attr)\n",
    "        order_pd_new = pd.DataFrame(attributes, index=[0])\n",
    "        order_pd_new = order_pd_new.assign(time_added=datetime.datetime.now())\n",
    "        columns = order_pd_new.columns\n",
    "        order_pd = pd.concat([order_pd_base, order_pd_new])\n",
    "        order_pd = order_pd[columns]\n",
    "        \n",
    "        # Save latest stData to pickle file and csv locally\n",
    "        order_pd.to_pickle(pklAdd_orders)\n",
    "        order_pd.to_csv(csvAddress_orders)\n",
    "    else:\n",
    "        print(\"Orderid {} not in open_orders\".format(orderid))\n",
    "        order_pd = None\n",
    "    return order_pd"
   ]
  },
  {
   "cell_type": "code",
   "execution_count": null,
   "metadata": {},
   "outputs": [],
   "source": [
    "def submit_order(resolved_ibcontract, action, shares, price, order_type, orderid, tif='GTC'):\n",
    "    \"\"\"\n",
    "        Submits an order to IB API.\n",
    "\n",
    "    Args:\n",
    "        resolved_ibcontract: IBContract, must be fully resolved\n",
    "        action: str, options: 'BUY', 'SELL'\n",
    "        shares: int\n",
    "        price: double\n",
    "        order_type: str, options: 'MKT', 'LMT', etc.\n",
    "        orderid: int, identifies which orderid to assign\n",
    "        tif (optional): Time-in-force. Defaults to 'GTC'.\n",
    "\n",
    "    Returns:\n",
    "        Returns the orderid used for this order\n",
    "\n",
    "    Raises:\n",
    "        None\n",
    "    \"\"\"\n",
    "    \n",
    "    # Submit order instructions to IB server\n",
    "    currOrder = ib.Order()\n",
    "    currOrder.action = action\n",
    "    currOrder.orderType = order_type\n",
    "    currOrder.totalQuantity = shares\n",
    "    currOrder.lmtPrice = price\n",
    "    currOrder.tif = tif\n",
    "    currOrder.transmit = True\n",
    "    print(\"App is connected?: {}\".format(app.isConnected()))\n",
    "    currOrderId = app.place_new_IB_order(resolved_ibcontract, currOrder, orderid=orderid)\n",
    "    print(\"Placed order, orderid is %d\" % currOrderId)\n",
    "    \n",
    "    return currOrderId"
   ]
  },
  {
   "cell_type": "code",
   "execution_count": 9,
   "metadata": {},
   "outputs": [
    {
     "name": "stdout",
     "output_type": "stream",
     "text": [
      "IB error id 50 errorcode 366 string No historical data query found for ticker id:50\n"
     ]
    },
    {
     "data": {
      "text/html": [
       "<div>\n",
       "<style scoped>\n",
       "    .dataframe tbody tr th:only-of-type {\n",
       "        vertical-align: middle;\n",
       "    }\n",
       "\n",
       "    .dataframe tbody tr th {\n",
       "        vertical-align: top;\n",
       "    }\n",
       "\n",
       "    .dataframe thead th {\n",
       "        text-align: right;\n",
       "    }\n",
       "</style>\n",
       "<table border=\"1\" class=\"dataframe\">\n",
       "  <thead>\n",
       "    <tr style=\"text-align: right;\">\n",
       "      <th></th>\n",
       "      <th>account</th>\n",
       "      <th>contract</th>\n",
       "      <th>position</th>\n",
       "      <th>avg_cost</th>\n",
       "    </tr>\n",
       "  </thead>\n",
       "  <tbody>\n",
       "    <tr>\n",
       "      <th>0</th>\n",
       "      <td>U9509931</td>\n",
       "      <td>324062330,TBIO,STK,,0.0,,,NASDAQ,,USD,TBIO,NMS...</td>\n",
       "      <td>90.0</td>\n",
       "      <td>6.261111</td>\n",
       "    </tr>\n",
       "    <tr>\n",
       "      <th>1</th>\n",
       "      <td>U9509931</td>\n",
       "      <td>327422071,LQDA,STK,,0.0,,,NASDAQ,,USD,LQDA,SCM...</td>\n",
       "      <td>103.0</td>\n",
       "      <td>19.359709</td>\n",
       "    </tr>\n",
       "    <tr>\n",
       "      <th>2</th>\n",
       "      <td>U9509931</td>\n",
       "      <td>322592376,MGTA,STK,,0.0,,,NASDAQ,,USD,MGTA,NMS...</td>\n",
       "      <td>264.0</td>\n",
       "      <td>7.555000</td>\n",
       "    </tr>\n",
       "    <tr>\n",
       "      <th>3</th>\n",
       "      <td>U9509931</td>\n",
       "      <td>329820282,SIC,STK,,0.0,,,NASDAQ,,USD,SIC,SCM,F...</td>\n",
       "      <td>232.0</td>\n",
       "      <td>8.600000</td>\n",
       "    </tr>\n",
       "    <tr>\n",
       "      <th>4</th>\n",
       "      <td>U9509931</td>\n",
       "      <td>294729588,ALNA,STK,,0.0,,,NASDAQ,,USD,ALNA,NMS...</td>\n",
       "      <td>243.0</td>\n",
       "      <td>8.205000</td>\n",
       "    </tr>\n",
       "    <tr>\n",
       "      <th>5</th>\n",
       "      <td>U9509931</td>\n",
       "      <td>319099329,KNSA,STK,,0.0,,,NASDAQ,,USD,KNSA,NMS...</td>\n",
       "      <td>110.0</td>\n",
       "      <td>18.059091</td>\n",
       "    </tr>\n",
       "    <tr>\n",
       "      <th>6</th>\n",
       "      <td>U9509931</td>\n",
       "      <td>310624804,LAZY,STK,,0.0,,,NASDAQ,,USD,LAZY,SCM...</td>\n",
       "      <td>200.0</td>\n",
       "      <td>5.455000</td>\n",
       "    </tr>\n",
       "    <tr>\n",
       "      <th>7</th>\n",
       "      <td>U9509931</td>\n",
       "      <td>37928772,USD,CASH,,0.0,,,,,SGD,USD.SGD,USD.SGD...</td>\n",
       "      <td>128244.0</td>\n",
       "      <td>1.354132</td>\n",
       "    </tr>\n",
       "  </tbody>\n",
       "</table>\n",
       "</div>"
      ],
      "text/plain": [
       "    account                                           contract  position  \\\n",
       "0  U9509931  324062330,TBIO,STK,,0.0,,,NASDAQ,,USD,TBIO,NMS...      90.0   \n",
       "1  U9509931  327422071,LQDA,STK,,0.0,,,NASDAQ,,USD,LQDA,SCM...     103.0   \n",
       "2  U9509931  322592376,MGTA,STK,,0.0,,,NASDAQ,,USD,MGTA,NMS...     264.0   \n",
       "3  U9509931  329820282,SIC,STK,,0.0,,,NASDAQ,,USD,SIC,SCM,F...     232.0   \n",
       "4  U9509931  294729588,ALNA,STK,,0.0,,,NASDAQ,,USD,ALNA,NMS...     243.0   \n",
       "5  U9509931  319099329,KNSA,STK,,0.0,,,NASDAQ,,USD,KNSA,NMS...     110.0   \n",
       "6  U9509931  310624804,LAZY,STK,,0.0,,,NASDAQ,,USD,LAZY,SCM...     200.0   \n",
       "7  U9509931  37928772,USD,CASH,,0.0,,,,,SGD,USD.SGD,USD.SGD...  128244.0   \n",
       "\n",
       "    avg_cost  \n",
       "0   6.261111  \n",
       "1  19.359709  \n",
       "2   7.555000  \n",
       "3   8.600000  \n",
       "4   8.205000  \n",
       "5  18.059091  \n",
       "6   5.455000  \n",
       "7   1.354132  "
      ]
     },
     "execution_count": 9,
     "metadata": {},
     "output_type": "execute_result"
    }
   ],
   "source": [
    "positions = app.get_current_positions()\n",
    "positions"
   ]
  },
  {
   "cell_type": "code",
   "execution_count": null,
   "metadata": {},
   "outputs": [],
   "source": [
    "i = 2\n",
    "resolved_ibcontract = positions.contract[i]\n",
    "resolved_ibcontract"
   ]
  },
  {
   "cell_type": "code",
   "execution_count": null,
   "metadata": {},
   "outputs": [],
   "source": [
    "# Building up sell order\n",
    "\n",
    "orderid = increment_order_no(orderid)\n",
    "submit_order(resolved_ibcontract=resolved_ibcontract, action=\"BUY\", shares=1, price=150, order_type=\"LMT\", orderid=orderid, tif=\"GTC\")\n",
    "add_order_entry(orderid)"
   ]
  },
  {
   "cell_type": "code",
   "execution_count": 31,
   "metadata": {},
   "outputs": [],
   "source": [
    "position = positions.loc[0]"
   ]
  },
  {
   "cell_type": "code",
   "execution_count": 32,
   "metadata": {},
   "outputs": [
    {
     "name": "stdout",
     "output_type": "stream",
     "text": [
      "Getting full contract details from the server... \n",
      "got multiple contracts using first one\n",
      "324062330,TBIO,STK,,0.0,,,SMART,NASDAQ,USD,TBIO,NMS,False,,combo:\n"
     ]
    },
    {
     "data": {
      "text/plain": [
       "4398589880: 324062330,TBIO,STK,,0.0,,,SMART,NASDAQ,USD,TBIO,NMS,False,,combo:"
      ]
     },
     "execution_count": 32,
     "metadata": {},
     "output_type": "execute_result"
    }
   ],
   "source": [
    "a = create_resolved_ibcontract(position.contract.symbol)\n",
    "a"
   ]
  },
  {
   "cell_type": "code",
   "execution_count": null,
   "metadata": {},
   "outputs": [],
   "source": [
    "def rebalance_sell_order(position, current_price_method, orderid):\n",
    "    StockShares = position.position\n",
    "    \n",
    "    # We have to re-resolve the contract based on the quote. Some risk in not identifying the same security. For some reason the saved Contract object in our positions DataFrame does not square up exactly with their resolved contract.\n",
    "    resolved_ibcontract = create_resolved_ibcontract(position.contract.symbol)\n",
    "    CurrPrice = get_latest_price(resolved_ibcontract)\n",
    "    \n",
    "    CostBasis = float(positions.avg_cost)\n",
    "    SellPrice = float(make_div_by_05(CostBasis*SellFactor, buy=False))\n",
    "    \n",
    "    stock = resolved_ibcontract.symbol\n",
    "\n",
    "    if (stock in age and age[stock] == 1) :\n",
    "        pass\n",
    "    elif (\n",
    "        stock in age \n",
    "        and fireSaleAge <= age[stock] \n",
    "        and (\n",
    "            fireSalePrice>CurrPrice\n",
    "            or CostBasis>CurrPrice\n",
    "            )\n",
    "        ):\n",
    "        if (stock in age and age[stock] < 2) :\n",
    "            pass\n",
    "        elif stock not in age:\n",
    "            age[stock] = 1\n",
    "        else:\n",
    "            SellPrice = float(make_div_by_05(.95*CurrPrice, buy=False))\n",
    "            print(\"Selling {}, \\tshares: {}, \\tprice: {}\".format(stock, StockShares, SellPrice))\n",
    "            submit_order(resolved_ibcontract=resolved_ibcontract, action=\"SELL\", shares=StockShares, price=SellPrice, order_type=\"LMT\", orderid=orderid, tif=\"GTC\")\n",
    "    else:\n",
    "        if (stock in age and age[stock] < 2) :\n",
    "            pass\n",
    "        elif stock not in age:\n",
    "            age[stock] = 1\n",
    "        else:\n",
    "            print(\"Selling {}, \\tshares: {}, \\tprice: {}\".format(stock, StockShares, SellPrice))\n",
    "            submit_order(resolved_ibcontract=resolved_ibcontract, action=\"SELL\", shares=StockShares, price=SellPrice, order_type=\"LMT\", orderid=orderid, tif=\"GTC\")"
   ]
  },
  {
   "cell_type": "code",
   "execution_count": null,
   "metadata": {},
   "outputs": [],
   "source": [
    "i = 4\n",
    "\n",
    "resolved_ibcontract = positions.contract[i]\n",
    "\n",
    "app = ib.TestApp(ip, port, clientID)\n",
    "\n",
    "orderid = app.get_next_brokerorderid()\n",
    "\n",
    "rebalance_sell_order(resolved_ibcontract=resolved_ibcontract, positions=positions.loc[i], current_price_method='last', orderid=orderid)\n",
    "\n",
    "app.disconnect()"
   ]
  },
  {
   "cell_type": "code",
   "execution_count": null,
   "metadata": {},
   "outputs": [],
   "source": [
    "def rebalance_all_sell_orders(current_price_method='bid'):\n",
    "\n",
    "    positions = get_positions()\n",
    "\n",
    "    # Get list of open sell orders\n",
    "    open_sell_orders = get_open_sell_orders()\n",
    "\n",
    "    # Review if limit sell order exists for every position    \n",
    "    for stock in positions:\n",
    "\n",
    "        # Check if stock has a existing limit sell order. If not, add one\n",
    "        if not open_sell_orders(stock):\n",
    "            rebalance_sell_order(stock=stock, positions=positions, current_price_method=current_price_method)"
   ]
  },
  {
   "cell_type": "code",
   "execution_count": 60,
   "metadata": {},
   "outputs": [
    {
     "name": "stdout",
     "output_type": "stream",
     "text": [
      "IB error id 50 errorcode 366 string No historical data query found for ticker id:50\n",
      "    account                                           contract  position  \\\n",
      "0  U9509931  324062330,TBIO,STK,,0.0,,,NASDAQ,,USD,TBIO,NMS...      90.0   \n",
      "1  U9509931  327422071,LQDA,STK,,0.0,,,NASDAQ,,USD,LQDA,SCM...     103.0   \n",
      "2  U9509931  322592376,MGTA,STK,,0.0,,,NASDAQ,,USD,MGTA,NMS...     264.0   \n",
      "3  U9509931  329820282,SIC,STK,,0.0,,,NASDAQ,,USD,SIC,SCM,F...     232.0   \n",
      "4  U9509931  294729588,ALNA,STK,,0.0,,,NASDAQ,,USD,ALNA,NMS...     243.0   \n",
      "5  U9509931  319099329,KNSA,STK,,0.0,,,NASDAQ,,USD,KNSA,NMS...     110.0   \n",
      "6  U9509931  310624804,LAZY,STK,,0.0,,,NASDAQ,,USD,LAZY,SCM...     200.0   \n",
      "7  U9509931  37928772,USD,CASH,,0.0,,,,,SGD,USD.SGD,USD.SGD...  128244.0   \n",
      "\n",
      "    avg_cost  \n",
      "0   6.261111  \n",
      "1  19.359709  \n",
      "2   7.555000  \n",
      "3   8.600000  \n",
      "4   8.205000  \n",
      "5  18.059091  \n",
      "6   5.455000  \n",
      "7   1.355977  \n"
     ]
    },
    {
     "name": "stderr",
     "output_type": "stream",
     "text": [
      "Exception in thread Thread-11:\n",
      "Traceback (most recent call last):\n",
      "  File \"/anaconda3/lib/python3.5/threading.py\", line 914, in _bootstrap_inner\n",
      "    self.run()\n",
      "  File \"/anaconda3/lib/python3.5/threading.py\", line 862, in run\n",
      "    self._target(*self._args, **self._kwargs)\n",
      "  File \"/anaconda3/lib/python3.5/site-packages/ibapi-9.73.7-py3.5.egg/ibapi/client.py\", line 234, in run\n",
      "    self.decoder.interpret(fields)\n",
      "  File \"/anaconda3/lib/python3.5/site-packages/ibapi-9.73.7-py3.5.egg/ibapi/decoder.py\", line 1374, in interpret\n",
      "    self.interpretWithSignature(fields, handleInfo)\n",
      "  File \"/anaconda3/lib/python3.5/site-packages/ibapi-9.73.7-py3.5.egg/ibapi/decoder.py\", line 1355, in interpretWithSignature\n",
      "    method(*args)\n",
      "  File \"/Users/chingaling/Documents/Algo Trading/BroCodePC/IB_API_tutorial.py\", line 380, in updateAccountTime\n",
      "    self._my_accounts[accountName].put(data)\n",
      "NameError: name 'accountName' is not defined\n",
      "\n"
     ]
    },
    {
     "name": "stdout",
     "output_type": "stream",
     "text": [
      "Exceeded maximum wait for wrapper to confirm finished whilst getting accounting data\n",
      "[('AccountCode', 'U9509931', ''), ('AccountOrGroup', 'U9509931', 'BASE'), ('AccountOrGroup', 'U9509931', 'USD'), ('AccountReady', 'true', ''), ('AccountType', 'INDIVIDUAL', ''), ('AccruedCash', '0.00', 'BASE'), ('AccruedCash', '0.00', 'USD'), ('AccruedCash-F', '0.00', 'USD'), ('AccruedCash-S', '0.00', 'USD'), ('AccruedDividend', '0.00', 'USD'), ('AccruedDividend-F', '0.00', 'USD'), ('AccruedDividend-S', '0.00', 'USD'), ('AvailableFunds', '7837.70', 'USD'), ('AvailableFunds-F', '0.00', 'USD'), ('AvailableFunds-S', '7837.70', 'USD'), ('Billable', '0.00', 'USD'), ('Billable-F', '0.00', 'USD'), ('Billable-S', '0.00', 'USD'), ('BuyingPower', '31350.80', 'USD'), ('CashBalance', '7837.70', 'BASE'), ('CashBalance', '7837.70', 'USD'), ('CorporateBondValue', '0.00', 'BASE'), ('CorporateBondValue', '0.00', 'USD'), ('Currency', 'BASE', 'BASE'), ('Currency', 'USD', 'USD'), ('Cushion', '0.400812', ''), ('DayTradesRemaining', '3', ''), ('DayTradesRemainingT+1', '3', ''), ('DayTradesRemainingT+2', '3', ''), ('DayTradesRemainingT+3', '3', ''), ('DayTradesRemainingT+4', '3', ''), ('EquityWithLoanValue', '19554.56', 'USD'), ('EquityWithLoanValue-F', '0.00', 'USD'), ('EquityWithLoanValue-S', '19554.56', 'USD'), ('ExcessLiquidity', '7837.70', 'USD'), ('ExcessLiquidity-F', '0.00', 'USD'), ('ExcessLiquidity-S', '7837.70', 'USD'), ('ExchangeRate', '1.00', 'BASE'), ('ExchangeRate', '1.00', 'USD'), ('FullAvailableFunds', '7837.70', 'USD'), ('FullAvailableFunds-F', '0.00', 'USD'), ('FullAvailableFunds-S', '7837.70', 'USD'), ('FullExcessLiquidity', '7837.70', 'USD'), ('FullExcessLiquidity-F', '0.00', 'USD'), ('FullExcessLiquidity-S', '7837.70', 'USD'), ('FullInitMarginReq', '11716.86', 'USD'), ('FullInitMarginReq-F', '0.00', 'USD'), ('FullInitMarginReq-S', '11716.86', 'USD'), ('FullMaintMarginReq', '11716.86', 'USD'), ('FullMaintMarginReq-F', '0.00', 'USD'), ('FullMaintMarginReq-S', '11716.86', 'USD'), ('FundValue', '0.00', 'BASE'), ('FundValue', '0.00', 'USD'), ('FutureOptionValue', '0.00', 'BASE'), ('FutureOptionValue', '0.00', 'USD'), ('FuturesPNL', '0.00', 'BASE'), ('FuturesPNL', '0.00', 'USD'), ('FxCashBalance', '0.00', 'BASE'), ('FxCashBalance', '0.00', 'USD'), ('GrossPositionValue', '11716.86', 'USD'), ('GrossPositionValue-F', '0.00', 'USD'), ('GrossPositionValue-S', '11716.86', 'USD'), ('Guarantee', '0.00', 'USD'), ('Guarantee-F', '0.00', 'USD'), ('Guarantee-S', '0.00', 'USD'), ('IndianStockHaircut', '0.00', 'USD'), ('IndianStockHaircut-F', '0.00', 'USD'), ('IndianStockHaircut-S', '0.00', 'USD'), ('InitMarginReq', '11716.86', 'USD'), ('InitMarginReq-F', '0.00', 'USD'), ('InitMarginReq-S', '11716.86', 'USD'), ('IssuerOptionValue', '0.00', 'BASE'), ('IssuerOptionValue', '0.00', 'USD'), ('Leverage-F', '0.00', ''), ('Leverage-S', '0.60', ''), ('LookAheadAvailableFunds', '7837.70', 'USD'), ('LookAheadAvailableFunds-F', '0.00', 'USD'), ('LookAheadAvailableFunds-S', '7837.70', 'USD'), ('LookAheadExcessLiquidity', '7837.70', 'USD'), ('LookAheadExcessLiquidity-F', '0.00', 'USD'), ('LookAheadExcessLiquidity-S', '7837.70', 'USD'), ('LookAheadInitMarginReq', '11716.86', 'USD'), ('LookAheadInitMarginReq-F', '0.00', 'USD'), ('LookAheadInitMarginReq-S', '11716.86', 'USD'), ('LookAheadMaintMarginReq', '11716.86', 'USD'), ('LookAheadMaintMarginReq-F', '0.00', 'USD'), ('LookAheadMaintMarginReq-S', '11716.86', 'USD'), ('LookAheadNextChange', '0', ''), ('MaintMarginReq', '11716.86', 'USD'), ('MaintMarginReq-F', '0.00', 'USD'), ('MaintMarginReq-S', '11716.86', 'USD'), ('MoneyMarketFundValue', '0.00', 'BASE'), ('MoneyMarketFundValue', '0.00', 'USD'), ('MutualFundValue', '0.00', 'BASE'), ('MutualFundValue', '0.00', 'USD'), ('NLVAndMarginInReview', 'false', ''), ('NetDividend', '0.00', 'BASE'), ('NetDividend', '0.00', 'USD'), ('NetLiquidation', '19554.56', 'USD'), ('NetLiquidation-F', '0.00', 'USD'), ('NetLiquidation-S', '19554.56', 'USD'), ('NetLiquidationByCurrency', '19554.5568', 'BASE'), ('NetLiquidationByCurrency', '19554.5568', 'USD'), ('NetLiquidationUncertainty', '0.00', 'USD'), ('OptionMarketValue', '0.00', 'BASE'), ('OptionMarketValue', '0.00', 'USD'), ('PASharesValue', '0.00', 'USD'), ('PASharesValue-F', '0.00', 'USD'), ('PASharesValue-S', '0.00', 'USD'), ('PostExpirationExcess', '0.00', 'USD'), ('PostExpirationExcess-F', '0.00', 'USD'), ('PostExpirationExcess-S', '0.00', 'USD'), ('PostExpirationMargin', '0.00', 'USD'), ('PostExpirationMargin-F', '0.00', 'USD'), ('PostExpirationMargin-S', '0.00', 'USD'), ('PreviousDayEquityWithLoanValue', '19240.18', 'USD'), ('PreviousDayEquityWithLoanValue-S', '19240.18', 'USD'), ('RealCurrency', 'BASE', 'BASE'), ('RealCurrency', 'USD', 'USD'), ('RealizedPnL', '0.00', 'BASE'), ('RealizedPnL', '0.00', 'USD'), ('RegTEquity', '19554.56', 'USD'), ('RegTEquity-S', '19554.56', 'USD'), ('RegTMargin', '5858.43', 'USD'), ('RegTMargin-S', '5858.43', 'USD'), ('SMA', '13949.57', 'USD'), ('SMA-S', '13949.57', 'USD'), ('SegmentTitle-F', 'UK Regulated', ''), ('SegmentTitle-S', 'US Securities', ''), ('StockMarketValue', '11716.86', 'BASE'), ('StockMarketValue', '11716.86', 'USD'), ('TBillValue', '0.00', 'BASE'), ('TBillValue', '0.00', 'USD'), ('TBondValue', '0.00', 'BASE'), ('TBondValue', '0.00', 'USD'), ('TotalCashBalance', '7837.70', 'BASE'), ('TotalCashBalance', '7837.70', 'USD'), ('TotalCashValue', '7837.70', 'USD'), ('TotalCashValue-F', '0.00', 'USD'), ('TotalCashValue-S', '7837.70', 'USD'), ('TotalDebitCardPendingCharges', '0.00', 'USD'), ('TotalDebitCardPendingCharges-F', '0.00', 'USD'), ('TotalDebitCardPendingCharges-S', '0.00', 'USD'), ('TradingType-F', 'STKMRGN', ''), ('TradingType-S', 'STKMRGN', ''), ('UnrealizedPnL', '98.27', 'BASE'), ('UnrealizedPnL', '98.27', 'USD'), ('WarrantValue', '0.00', 'BASE'), ('WarrantValue', '0.00', 'USD'), ('WhatIfPMEnabled', 'true', '')]\n",
      "[(4416831728: 294729588,ALNA,STK,,0.0,0,,,NASDAQ,USD,ALNA,NMS,False,,combo:, 243.0, 8.3439598, 2027.58, 8.205, 33.77, 0.0)]\n"
     ]
    },
    {
     "data": {
      "text/plain": [
       "'\\n  File \"/Users/chingaling/Documents/Algo Trading/BroCodePC/IB_API_tutorial.py\", line 380, in updateAccountTime\\n    self._my_accounts[accountName].put(data)\\nNameError: name \\'accountName\\' is not defined\\n'"
      ]
     },
     "execution_count": 60,
     "metadata": {},
     "output_type": "execute_result"
    }
   ],
   "source": [
    "## lets get positions\n",
    "positions_list = app.get_current_positions()\n",
    "print(positions_list)\n",
    "\n",
    "## get the account name from the position\n",
    "## normally you would know your account name\n",
    "accountName = positions_list.account[0]\n",
    "\n",
    "## and accounting information\n",
    "accounting_values = app.get_accounting_values(accountName)\n",
    "print(accounting_values)\n",
    "\n",
    "## these values are cached\n",
    "## if we ask again in more than 5 minutes it will update everything\n",
    "accounting_updates = app.get_accounting_updates(accountName)\n",
    "print(accounting_updates)\n",
    "\n",
    "# TODO: solve this error below\n",
    "'''\n",
    "  File \"/Users/chingaling/Documents/Algo Trading/BroCodePC/IB_API_tutorial.py\", line 380, in updateAccountTime\n",
    "    self._my_accounts[accountName].put(data)\n",
    "NameError: name 'accountName' is not defined\n",
    "'''"
   ]
  },
  {
   "cell_type": "code",
   "execution_count": null,
   "metadata": {},
   "outputs": [],
   "source": [
    "def positions_list_pd(positions_list):\n",
    "    columns = ['account', 'contract', 'position', 'avg_cost']\n",
    "    positions_list_pd = pd.DataFrame(positions_list, columns=columns)\n",
    "    return positions_list_pd"
   ]
  },
  {
   "cell_type": "code",
   "execution_count": 2,
   "metadata": {
    "scrolled": true
   },
   "outputs": [
    {
     "ename": "NameError",
     "evalue": "name 'accounting_values' is not defined",
     "output_type": "error",
     "traceback": [
      "\u001b[0;31m---------------------------------------------------------------------------\u001b[0m",
      "\u001b[0;31mNameError\u001b[0m                                 Traceback (most recent call last)",
      "\u001b[0;32m<ipython-input-2-eaffa8cf1f9a>\u001b[0m in \u001b[0;36m<module>\u001b[0;34m()\u001b[0m\n\u001b[0;32m----> 1\u001b[0;31m \u001b[0maccounting_values\u001b[0m\u001b[0;34m\u001b[0m\u001b[0m\n\u001b[0m",
      "\u001b[0;31mNameError\u001b[0m: name 'accounting_values' is not defined"
     ]
    }
   ],
   "source": [
    "accounting_values"
   ]
  },
  {
   "cell_type": "code",
   "execution_count": 20,
   "metadata": {},
   "outputs": [
    {
     "data": {
      "text/plain": [
       "(4625176896: 294729588,ALNA,STK,,0.0,0,,,NASDAQ,USD,ALNA,NMS,False,,combo:,\n",
       " 243.0,\n",
       " 8.3132992,\n",
       " 2020.13,\n",
       " 8.205,\n",
       " 26.32,\n",
       " 0.0)"
      ]
     },
     "execution_count": 20,
     "metadata": {},
     "output_type": "execute_result"
    }
   ],
   "source": [
    "accounting_updates[0]"
   ]
  },
  {
   "cell_type": "code",
   "execution_count": null,
   "metadata": {},
   "outputs": [],
   "source": [
    "# Re-balancing method from 30_stock algo every 10 minutes. Buy order cycles through list of 100 stock selected each day.\n",
    "\n",
    "def my_rebalance(context, data):\n",
    "    buyFactor=.99\n",
    "    SellFactor=1.01\n",
    "    cash=context.portfolio.cash\n",
    "\n",
    "    cancel_open_buy_orders(context, data)\n",
    "\n",
    "    # Order sell at profit target in hope that somebody actually buys it\n",
    "    for stock in context.portfolio.positions:\n",
    "        if not get_open_orders(stock):\n",
    "            StockShares = context.portfolio.positions[stock].amount\n",
    "            CurrPrice = float(data.current([stock], 'price'))\n",
    "            CostBasis = float(context.portfolio.positions[stock].cost_basis)\n",
    "            SellPrice = float(make_div_by_05(CostBasis*SellFactor, buy=False))\n",
    "            \n",
    "            \n",
    "            if np.isnan(SellPrice) :\n",
    "                pass # probably best to wait until nan goes away\n",
    "            elif (stock in context.age and context.age[stock] == 1) :\n",
    "                pass\n",
    "            elif (\n",
    "                stock in context.age \n",
    "                and context.MyFireSaleAge<=context.age[stock] \n",
    "                and (\n",
    "                    context.MyFireSalePrice>CurrPrice\n",
    "                    or CostBasis>CurrPrice\n",
    "                )\n",
    "            ):\n",
    "                if (stock in context.age and context.age[stock] < 2) :\n",
    "                    pass\n",
    "                elif stock not in context.age:\n",
    "                    context.age[stock] = 1\n",
    "                else:\n",
    "                    SellPrice = float(make_div_by_05(.95*CurrPrice, buy=False))\n",
    "                    print(\"Selling {}, \\tshares: {}, \\tprice: {}\".format(stock, StockShares, SellPrice))\n",
    "                    order(stock, -StockShares,\n",
    "                        style=LimitOrder(SellPrice)\n",
    "                    )\n",
    "            else:\n",
    "                if (stock in context.age and context.age[stock] < 2) :\n",
    "                    pass\n",
    "                elif stock not in context.age:\n",
    "                    context.age[stock] = 1\n",
    "                else:\n",
    "                    print(\"Selling {}, \\tshares: {}, \\tprice: {}\".format(stock, StockShares, SellPrice))\n",
    "                    order(stock, -StockShares,\n",
    "                        style=LimitOrder(SellPrice)\n",
    "                    )\n",
    "\n",
    "    WeightThisBuyOrder=float(1.00/context.maxBuyOrdersAtOnce)\n",
    "    for ThisBuyOrder in range(context.maxBuyOrdersAtOnce):\n",
    "        stock = next(context.MyCandidate)\n",
    "        PH = data.history([stock], 'price', 20, '1d')\n",
    "        PH_Avg = float(PH.mean())\n",
    "        CurrPrice = float(data.current([stock], 'price'))\n",
    "        if np.isnan(CurrPrice):\n",
    "            pass # probably best to wait until nan goes away\n",
    "        else:\n",
    "            if CurrPrice > float(1.25*PH_Avg):\n",
    "                BuyPrice=float(CurrPrice)\n",
    "            else:\n",
    "                BuyPrice=float(CurrPrice*buyFactor)\n",
    "            BuyPrice=float(make_div_by_05(BuyPrice, buy=True))\n",
    "            StockShares = int(WeightThisBuyOrder*cash/BuyPrice)\n",
    "            #print(\"Buying {}, \\tshares: {}, \\tprice: {}\".format(stock, StockShares, BuyPrice))\n",
    "            order(stock, StockShares,\n",
    "                style=LimitOrder(BuyPrice)\n",
    "            )"
   ]
  },
  {
   "cell_type": "markdown",
   "metadata": {},
   "source": [
    "## Lesson 1: Create a connection with IB API\n",
    "https://qoppac.blogspot.com/2017/03/interactive-brokers-native-python-api.html\n",
    "\n",
    "## Lesson 2: Get historic data\n",
    "https://qoppac.blogspot.com/2017/03/historic-data-from-native-ib-pyhon-api.html\n",
    "\n",
    "## Lesson 3: Get streaming data\n",
    "https://qoppac.blogspot.com/2017/03/streaming-market-data-from-native.html\n",
    "\n",
    "## Lesson 4: Creating orders\n",
    "https://qoppac.blogspot.com/2017/03/placing-orders-in-native-python-ib-api.html\n",
    "\n",
    "## Lesson 5: Getting portfolio positions and account info\n",
    "https://qoppac.blogspot.com/2017/03/getting-position-and-accounting-data.html"
   ]
  }
 ],
 "metadata": {
  "kernelspec": {
   "display_name": "Python 3",
   "language": "python",
   "name": "python3"
  },
  "language_info": {
   "codemirror_mode": {
    "name": "ipython",
    "version": 3
   },
   "file_extension": ".py",
   "mimetype": "text/x-python",
   "name": "python",
   "nbconvert_exporter": "python",
   "pygments_lexer": "ipython3",
   "version": "3.5.5"
  }
 },
 "nbformat": 4,
 "nbformat_minor": 2
}
