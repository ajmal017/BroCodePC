{
 "cells": [
  {
   "cell_type": "markdown",
   "metadata": {},
   "source": [
    "## Move to python file"
   ]
  },
  {
   "cell_type": "code",
   "execution_count": 1,
   "metadata": {},
   "outputs": [],
   "source": [
    "def create_resolved_ibcontract(stock_to_trade):\n",
    "    # Create the contract object\n",
    "    ibcontract = ib.IBcontract()\n",
    "    ibcontract.secType = \"STK\"\n",
    "    ibcontract.symbol = stock_to_trade\n",
    "    ibcontract.currency = \"USD\"\n",
    "    resolved_ibcontract = app.resolve_ib_contract(ibcontract)\n",
    "    print(resolved_ibcontract)\n",
    "\n",
    "    # TODO: Investigate that we are getting the right stock out of all of the options\n",
    "    return resolved_ibcontract"
   ]
  },
  {
   "cell_type": "code",
   "execution_count": 2,
   "metadata": {},
   "outputs": [],
   "source": [
    "def get_latest_price(resolved_ibcontract):\n",
    "    \n",
    "    # Get the last price\n",
    "    tickerid = app.start_getting_IB_market_data(resolved_ibcontract)\n",
    "    time.sleep(1)\n",
    "    market_data1 = app.stop_getting_IB_market_data(tickerid)\n",
    "    market_data1_as_df = market_data1.as_pdDataFrame()\n",
    "    display(market_data1_as_df.resample(\"1S\").last())\n",
    "    some_quotes = market_data1_as_df.resample(\"1S\").last()[[\"last_trade_price\"]]\n",
    "    current_price = some_quotes.iloc[0][0]\n",
    "    print(current_price)\n",
    "    \n",
    "    return current_price\n",
    "    # TODO: Skip this stock if price comes back as nan"
   ]
  },
  {
   "cell_type": "markdown",
   "metadata": {},
   "source": [
    "## Reading my Chinese Alipay file. Not related to algo"
   ]
  },
  {
   "cell_type": "code",
   "execution_count": null,
   "metadata": {},
   "outputs": [],
   "source": [
    "from chardet import detect\n",
    "encoding = lambda x: detect(x)['encoding']"
   ]
  },
  {
   "cell_type": "code",
   "execution_count": null,
   "metadata": {},
   "outputs": [],
   "source": [
    "f = open('/Users/chingaling/Desktop/alipay_record_20181112_1301_1.csv','r')"
   ]
  },
  {
   "cell_type": "code",
   "execution_count": null,
   "metadata": {},
   "outputs": [],
   "source": [
    "type(f)"
   ]
  },
  {
   "cell_type": "code",
   "execution_count": null,
   "metadata": {},
   "outputs": [],
   "source": [
    "for line in f:\n",
    "    print encoding(line)\n",
    "f.close()"
   ]
  },
  {
   "cell_type": "code",
   "execution_count": null,
   "metadata": {},
   "outputs": [],
   "source": [
    "  n_line=unicode(line,encoding(line),errors='ignore')\n",
    "  print n_line\n",
    "  print n_line.encode('utf8')"
   ]
  },
  {
   "cell_type": "markdown",
   "metadata": {},
   "source": [
    "## Beginning of algo playground"
   ]
  },
  {
   "cell_type": "code",
   "execution_count": 3,
   "metadata": {},
   "outputs": [],
   "source": [
    "import sys\n",
    "sys.path.insert(0, '/Users/chingaling/Documents/Algo Trading/BroCodePC')\n",
    "import IB_API_tutorial as ib\n",
    "import main as m\n",
    "import time\n",
    "import pandas as pd\n",
    "from pandas.tseries.offsets import BDay\n",
    "import numpy as np\n",
    "import math\n",
    "import datetime\n",
    "from itertools import cycle"
   ]
  },
  {
   "cell_type": "code",
   "execution_count": 71,
   "metadata": {},
   "outputs": [
    {
     "data": {
      "text/plain": [
       "<module 'IB_API_tutorial' from '/Users/chingaling/Documents/Algo Trading/BroCodePC/IB_API_tutorial.py'>"
      ]
     },
     "execution_count": 71,
     "metadata": {},
     "output_type": "execute_result"
    }
   ],
   "source": [
    "from importlib import reload\n",
    "reload (ib)"
   ]
  },
  {
   "cell_type": "code",
   "execution_count": null,
   "metadata": {},
   "outputs": [],
   "source": [
    "sys.path.insert(0, '/Users/chingaling/Documents/Algo Trading/RobCarver')\n",
    "import L3StreamData"
   ]
  },
  {
   "cell_type": "markdown",
   "metadata": {},
   "source": [
    "## Create some global variables and open connection"
   ]
  },
  {
   "cell_type": "code",
   "execution_count": 68,
   "metadata": {},
   "outputs": [],
   "source": [
    "app.disconnect()"
   ]
  },
  {
   "cell_type": "code",
   "execution_count": 4,
   "metadata": {},
   "outputs": [],
   "source": [
    "port = 7496\n",
    "ip = \"127.0.0.1\"\n",
    "clientID = 1\n",
    "buyFactor = .99\n",
    "SellFactor = 1.01\n",
    "rebalance_interval = 10\n",
    "maxBuyOrdersAtOnce = 30\n",
    "minInvSize = 1000\n",
    "stock_list = []\n",
    "maxCandidates=100\n",
    "leastPrice=3.00\n",
    "mostPrice=20.00\n",
    "fireSalePrice = leastPrice\n",
    "fireSaleAge = 6\n",
    "\n",
    "# Local file addresses\n",
    "csvAddress_stocks_to_trade = \"/Users/chingaling/Documents/Algo Trading/BroCodePC/stocks_to_trade.csv\"\n",
    "csvAddress_orders = \"/Users/chingaling/Documents/Algo Trading/BroCodePC/orders.csv\"\n",
    "pklAdd_orders = \"/Users/chingaling/Documents/Algo Trading/BroCodePC/orders.pkl\"\n",
    "pklAdd_exec = \"/Users/chingaling/Documents/Algo Trading/BroCodePC/executions.pkl\""
   ]
  },
  {
   "cell_type": "code",
   "execution_count": 72,
   "metadata": {},
   "outputs": [
    {
     "name": "stdout",
     "output_type": "stream",
     "text": [
      "Getting the time from the server... \n",
      "IB error id -1 errorcode 2104 string Market data farm connection is OK:usfuture\n",
      "IB error id -1 errorcode 2104 string Market data farm connection is OK:eufarm\n",
      "IB error id -1 errorcode 2104 string Market data farm connection is OK:njfarm\n",
      "IB error id -1 errorcode 2104 string Market data farm connection is OK:usfarm.us\n",
      "IB error id -1 errorcode 2106 string HMDS data farm connection is OK:ilhmds\n",
      "IB error id -1 errorcode 2106 string HMDS data farm connection is OK:euhmds\n",
      "IB error id -1 errorcode 2106 string HMDS data farm connection is OK:fundfarm\n",
      "IB error id -1 errorcode 2106 string HMDS data farm connection is OK:ushmds\n",
      "1542564953\n"
     ]
    }
   ],
   "source": [
    "# Test connection\n",
    "#clientID = 2\n",
    "app = ib.TestApp(ip, port, clientID)\n",
    "current_time = app.speaking_clock()\n",
    "print(current_time)"
   ]
  },
  {
   "cell_type": "code",
   "execution_count": null,
   "metadata": {},
   "outputs": [],
   "source": [
    "# Contract details to edit\n",
    "ibcontract = ib.IBcontract()\n",
    "ibcontract.secType = \"STK\"\n",
    "ibcontract.symbol=\"TBIO\"\n",
    "ibcontract.currency = \"USD\"\n",
    "resolved_ibcontract = app.resolve_ib_contract(ibcontract)\n",
    "resolved_ibcontract"
   ]
  },
  {
   "cell_type": "code",
   "execution_count": null,
   "metadata": {
    "scrolled": true
   },
   "outputs": [],
   "source": [
    "historic_data = app.get_IB_historical_data(resolved_ibcontract)\n",
    "historic_data"
   ]
  },
  {
   "cell_type": "code",
   "execution_count": null,
   "metadata": {},
   "outputs": [],
   "source": [
    "PH = app.get_IB_historical_data(resolved_ibcontract, durationStr='20 D')"
   ]
  },
  {
   "cell_type": "code",
   "execution_count": null,
   "metadata": {},
   "outputs": [],
   "source": [
    "PH_df = pd.DataFrame(PH, columns=['date', 'open', 'high', 'low', 'close', 'volume'])"
   ]
  },
  {
   "cell_type": "code",
   "execution_count": null,
   "metadata": {},
   "outputs": [],
   "source": [
    "PH_df.close.mean()"
   ]
  },
  {
   "cell_type": "code",
   "execution_count": null,
   "metadata": {},
   "outputs": [],
   "source": [
    "print(historic_data[-5:-1])"
   ]
  },
  {
   "cell_type": "markdown",
   "metadata": {},
   "source": [
    "## Making buy orders"
   ]
  },
  {
   "cell_type": "code",
   "execution_count": null,
   "metadata": {},
   "outputs": [],
   "source": [
    "def submit_buy_order(stock_to_trade):\n",
    "    #if stock_to_trade in positions:\n",
    "        #TODO: Check if this is actually a criteria in the Quantopian model\n",
    "        #pass \n",
    "    resolved_ibcontract = create_resolved_ibcontract(stock_to_trade)\n",
    "    PH = app.get_IB_historical_data(resolved_ibcontract, durationStr='20 D')\n",
    "    PH_df = pd.DataFrame(PH, columns=['date', 'open', 'high', 'low', 'close', 'volume'])\n",
    "    PH_Avg = float(PH_df.close.mean())\n",
    "    current_price = float(get_latest_price(resolved_ibcontract))\n",
    "    if np.isnan(current_price):\n",
    "        pass # probably best to wait until nan goes away\n",
    "    else:\n",
    "        if current_price > float(1.25*PH_Avg):\n",
    "            buyPrice=float(current_price)\n",
    "        else:\n",
    "            buyPrice=float(current_price*buyFactor)\n",
    "        buyPrice=float(ib.make_div_by_05(buyPrice, buy=True))\n",
    "        #StockShares = int(WeightThisBuyOrder*cash/buyPrice)\n",
    "        StockShares = int(minInvSize/buyPrice)\n",
    "        print(\"Buying {}, \\tshares: {}, \\tprice: {}\".format(stock_to_trade, StockShares, buyPrice))\n",
    "\n",
    "        # Submit the buy order and log the order\n",
    "        orderid = app.submit_order(resolved_ibcontract=resolved_ibcontract, action=\"BUY\", shares=StockShares, price=buyPrice, order_type=\"LMT\", orderid=None, tif=\"GTC\")\n",
    "        order_pd = app.add_order_entry(orderid, pklAdd_orders=pklAdd_orders, csvAddress_orders=csvAddress_orders)"
   ]
  },
  {
   "cell_type": "code",
   "execution_count": null,
   "metadata": {},
   "outputs": [],
   "source": [
    "def rebalance_buy_orders():\n",
    "    WeightThisBuyOrder=float(1.00/maxBuyOrdersAtOnce)\n",
    "    for ThisBuyOrder in range(maxBuyOrdersAtOnce):\n",
    "        stock_to_trade = next(nextStock)\n",
    "        submit_buy_order(stock_to_trade)\n",
    "        "
   ]
  },
  {
   "cell_type": "code",
   "execution_count": null,
   "metadata": {},
   "outputs": [],
   "source": [
    "# Contract details to edit\n",
    "stock_to_trade = next(nextStock)\n",
    "print(\"Trading this stock: {}\".format(stock_to_trade))\n",
    "\n",
    "# TODO: Check to see if this stock is already on the order list, or within the portfolio. Or if it's been traded already today (like sold). If so, skip to the next one."
   ]
  },
  {
   "cell_type": "code",
   "execution_count": null,
   "metadata": {},
   "outputs": [],
   "source": [
    "submit_buy_order(stock_to_trade)"
   ]
  },
  {
   "cell_type": "code",
   "execution_count": null,
   "metadata": {},
   "outputs": [],
   "source": [
    "rebalance_buy_orders()"
   ]
  },
  {
   "cell_type": "code",
   "execution_count": null,
   "metadata": {},
   "outputs": [],
   "source": [
    "# Load list of stocks to trade and create cycle object\n",
    "stockNames = list(pd.read_csv(csvAddress_stocks_to_trade).Stocks)\n",
    "nextStock = cycle(stockNames)\n",
    "stockNames"
   ]
  },
  {
   "cell_type": "code",
   "execution_count": null,
   "metadata": {},
   "outputs": [],
   "source": [
    "resolved_ibcontract = create_resolved_ibcontract(stock_to_trade)"
   ]
  },
  {
   "cell_type": "code",
   "execution_count": null,
   "metadata": {},
   "outputs": [],
   "source": [
    "current_price = get_latest_price(resolved_ibcontract)"
   ]
  },
  {
   "cell_type": "code",
   "execution_count": null,
   "metadata": {},
   "outputs": [],
   "source": [
    "# Find the price to buy and amount\n",
    "buy_price = current_price * buyFactor\n",
    "buy_price=float(ib.make_div_by_05(buy_price, buy=True))\n",
    "print(\"buy_price: {}\".format(buy_price))\n",
    "buy_amount = math.floor(minInvSize/buy_price)\n",
    "print(\"buy_amount: {}\".format(buy_amount))"
   ]
  },
  {
   "cell_type": "code",
   "execution_count": null,
   "metadata": {},
   "outputs": [],
   "source": [
    "# Submit the buy order and log the order\n",
    "orderid = app.submit_order(resolved_ibcontract=resolved_ibcontract, action=\"BUY\", shares=buy_amount, price=buy_price, order_type=\"LMT\", orderid=None, tif=\"GTC\")\n",
    "order_pd = app.add_order_entry(orderid, pklAdd_orders=pklAdd_orders, csvAddress_orders=csvAddress_orders)"
   ]
  },
  {
   "cell_type": "markdown",
   "metadata": {},
   "source": [
    "## Cancelling buy orders"
   ]
  },
  {
   "cell_type": "code",
   "execution_count": null,
   "metadata": {},
   "outputs": [],
   "source": [
    "# Cancel all open buy orders\n",
    "app.cancel_open_buy_orders()"
   ]
  },
  {
   "cell_type": "code",
   "execution_count": null,
   "metadata": {},
   "outputs": [],
   "source": [
    "abs(order_pd.time_added[0] - datetime.datetime.now()) > datetime.timedelta(minutes=10)"
   ]
  },
  {
   "cell_type": "code",
   "execution_count": null,
   "metadata": {},
   "outputs": [],
   "source": [
    "a = pd.read_pickle(pklAdd_orders)"
   ]
  },
  {
   "cell_type": "code",
   "execution_count": null,
   "metadata": {},
   "outputs": [],
   "source": [
    "a"
   ]
  },
  {
   "cell_type": "markdown",
   "metadata": {},
   "source": [
    "## Submitting sell orders"
   ]
  },
  {
   "cell_type": "code",
   "execution_count": null,
   "metadata": {},
   "outputs": [],
   "source": [
    "def connect(self):\n",
    "    self.app = ib.TestApp(ip, port, clientID)"
   ]
  },
  {
   "cell_type": "code",
   "execution_count": null,
   "metadata": {},
   "outputs": [],
   "source": [
    "def main_trading():\n",
    "    # Here goes all of the code to run throughout the trading day\n",
    "\n",
    "    #Before trading day starts, load up list of stock candidates\n",
    "    self.stock_list = generate_stock_shortlist()\n",
    "\n",
    "    #TODO: Every rebalance_interval minutes, rebalance the portfolio\n",
    "    while (current_time < end_trading_day):\n",
    "        \n",
    "        # Connect to the IB API for every rebalancing\n",
    "        app = ib.TestApp(\"127.0.0.1\", port, 1)\n",
    "        rebalance(buyFactor=buyFactor, SellFactor=SellFactor)\n",
    "        \n",
    "        # At the end of the day, disconnect from the IB API app\n",
    "        app.disconnect()\n",
    "        \n",
    "        # Wait for the rebalance_interval time (in minutes)\n",
    "        time.wait(rebalance_interval * 60)"
   ]
  },
  {
   "cell_type": "code",
   "execution_count": null,
   "metadata": {},
   "outputs": [],
   "source": [
    "def rebalance(buyFactor=.99, SellFactor=1.01):\n",
    "    # Re-balancing method from 30_stock algo every 10 minutes. Buy order cycles through list of 100 stock selected each day.\n",
    "\n",
    "    # Get outstanding buying power from account\n",
    "    cash=get_buying_power()\n",
    "\n",
    "    # Close out all outstanding buy orders that were not fulfilled. Should be most of them\n",
    "    cancel_open_buy_orders()\n",
    "\n",
    "    # Get list of current positions\n",
    "    positions = get_current_positions()\n",
    "\n",
    "    # Create new sell orders as per algo strategy\n",
    "    rebalance_all_sell_orders()\n",
    "\n",
    "    # Submit new buy orders\n",
    "    if cash > minInvSize:\n",
    "        rebalance_buy_orders()"
   ]
  },
  {
   "cell_type": "code",
   "execution_count": null,
   "metadata": {},
   "outputs": [],
   "source": [
    "# Retrieve information from IB server\n",
    "def get_buying_power(self):\n",
    "    #TODO: Retrieve remaining buying power from account\n",
    "    accounting_values = app.get_accounting_values(accountName)\n",
    "    \n",
    "    pass"
   ]
  },
  {
   "cell_type": "code",
   "execution_count": null,
   "metadata": {},
   "outputs": [],
   "source": [
    "# Cancel all outstanding buy orders\n",
    "open_orders = self.get_open_orders_pd()\n",
    "for _, order in open_orders.iterrows():\n",
    "    if order.order.action == \"BUY\":\n",
    "        print(\"Cancelling this order: {}\".format(order))\n",
    "        print(order.order.orderId)\n",
    "        self.cancel_order(order.order.orderId)"
   ]
  },
  {
   "cell_type": "code",
   "execution_count": 73,
   "metadata": {},
   "outputs": [
    {
     "data": {
      "text/html": [
       "<div>\n",
       "<style scoped>\n",
       "    .dataframe tbody tr th:only-of-type {\n",
       "        vertical-align: middle;\n",
       "    }\n",
       "\n",
       "    .dataframe tbody tr th {\n",
       "        vertical-align: top;\n",
       "    }\n",
       "\n",
       "    .dataframe thead th {\n",
       "        text-align: right;\n",
       "    }\n",
       "</style>\n",
       "<table border=\"1\" class=\"dataframe\">\n",
       "  <thead>\n",
       "    <tr style=\"text-align: right;\">\n",
       "      <th></th>\n",
       "      <th>avgFillPrice</th>\n",
       "      <th>clientId</th>\n",
       "      <th>filled</th>\n",
       "      <th>id</th>\n",
       "      <th>lastFillPrice</th>\n",
       "      <th>mktCapPrice</th>\n",
       "      <th>orderstate</th>\n",
       "      <th>parentId</th>\n",
       "      <th>permid</th>\n",
       "      <th>status</th>\n",
       "      <th>...</th>\n",
       "      <th>tif</th>\n",
       "      <th>totalQuantity</th>\n",
       "      <th>trailStopPrice</th>\n",
       "      <th>trailingPercent</th>\n",
       "      <th>transmit</th>\n",
       "      <th>triggerMethod</th>\n",
       "      <th>triggerPrice</th>\n",
       "      <th>volatility</th>\n",
       "      <th>volatilityType</th>\n",
       "      <th>whatIf</th>\n",
       "    </tr>\n",
       "  </thead>\n",
       "  <tbody>\n",
       "    <tr>\n",
       "      <th>0</th>\n",
       "      <td>0.0</td>\n",
       "      <td>1</td>\n",
       "      <td>0.0</td>\n",
       "      <td>18</td>\n",
       "      <td>0.0</td>\n",
       "      <td>0.0</td>\n",
       "      <td>&lt;ibapi.order_state.OrderState object at 0x1086...</td>\n",
       "      <td>0</td>\n",
       "      <td>575567031</td>\n",
       "      <td>PreSubmitted</td>\n",
       "      <td>...</td>\n",
       "      <td>GTC</td>\n",
       "      <td>90.0</td>\n",
       "      <td>5.35</td>\n",
       "      <td>1.797693e+308</td>\n",
       "      <td>True</td>\n",
       "      <td>0</td>\n",
       "      <td>1.797693e+308</td>\n",
       "      <td>1.797693e+308</td>\n",
       "      <td>0</td>\n",
       "      <td>False</td>\n",
       "    </tr>\n",
       "  </tbody>\n",
       "</table>\n",
       "<p>1 rows × 154 columns</p>\n",
       "</div>"
      ],
      "text/plain": [
       "   avgFillPrice  clientId  filled  id  lastFillPrice  mktCapPrice  \\\n",
       "0           0.0         1     0.0  18            0.0          0.0   \n",
       "\n",
       "                                          orderstate  parentId     permid  \\\n",
       "0  <ibapi.order_state.OrderState object at 0x1086...         0  575567031   \n",
       "\n",
       "         status   ...    tif totalQuantity  trailStopPrice trailingPercent  \\\n",
       "0  PreSubmitted   ...    GTC          90.0            5.35   1.797693e+308   \n",
       "\n",
       "   transmit triggerMethod   triggerPrice     volatility volatilityType  whatIf  \n",
       "0      True             0  1.797693e+308  1.797693e+308              0   False  \n",
       "\n",
       "[1 rows x 154 columns]"
      ]
     },
     "execution_count": 73,
     "metadata": {},
     "output_type": "execute_result"
    }
   ],
   "source": [
    "open_orders = app.get_open_orders_pd()\n",
    "open_orders"
   ]
  },
  {
   "cell_type": "code",
   "execution_count": 75,
   "metadata": {},
   "outputs": [
    {
     "data": {
      "text/plain": [
       "Index(['avgFillPrice', 'clientId', 'filled', 'id', 'lastFillPrice',\n",
       "       'mktCapPrice', 'orderstate', 'parentId', 'permid', 'status',\n",
       "       ...\n",
       "       'tif', 'totalQuantity', 'trailStopPrice', 'trailingPercent', 'transmit',\n",
       "       'triggerMethod', 'triggerPrice', 'volatility', 'volatilityType',\n",
       "       'whatIf'],\n",
       "      dtype='object', length=154)"
      ]
     },
     "execution_count": 75,
     "metadata": {},
     "output_type": "execute_result"
    }
   ],
   "source": [
    "open_orders."
   ]
  },
  {
   "cell_type": "code",
   "execution_count": null,
   "metadata": {},
   "outputs": [],
   "source": [
    "for _, order in open_orders.iterrows():\n",
    "    if order."
   ]
  },
  {
   "cell_type": "code",
   "execution_count": null,
   "metadata": {},
   "outputs": [],
   "source": [
    "def get_open_sell_orders(self):\n",
    "    #TODO: Retrieve list of all open sell orders:\n",
    "\n",
    "    pass"
   ]
  },
  {
   "cell_type": "code",
   "execution_count": null,
   "metadata": {},
   "outputs": [],
   "source": [
    "def generate_stock_shortlist(self):\n",
    "\n",
    "    # Return list of stocks to trade for the day\n",
    "    csvAddress = \"/Users/chingaling/Documents/Algo Trading/BroCodePC/stocks_to_trade.csv\"\n",
    "    self.stock_list = list(pd.read_csv(csvAddress).Stocks)\n",
    "    self.nextStock = cycle(stockNames)"
   ]
  },
  {
   "cell_type": "code",
   "execution_count": null,
   "metadata": {},
   "outputs": [],
   "source": [
    "# Logging order entry\n",
    "def add_order_entry(orderid):\n",
    "    # Add a new log entry (somewhere, either CSV, cloud database, etc.) keeping track of all order detail\n",
    "    \n",
    "    # Get open orders\n",
    "    open_orders = app.get_open_orders()\n",
    "    order_attributes = ['contract','order','orderstate','status',\n",
    "                 'filled', 'avgFillPrice', 'permid',\n",
    "                 'parentId', 'lastFillPrice', 'clientId', 'whyHeld',\n",
    "                'mktCapPrice']\n",
    "    attributes = {}\n",
    "    order_pd_base = pd.read_pickle(pklAdd_orders)\n",
    "    if orderid in open_orders:\n",
    "        orderInformation = open_orders[orderid]\n",
    "        for attr in order_attributes:\n",
    "            attributes[attr] = getattr(orderInformation, attr)\n",
    "        order_pd_new = pd.DataFrame(attributes, index=[0])\n",
    "        order_pd_new = order_pd_new.assign(time_added=datetime.datetime.now())\n",
    "        columns = order_pd_new.columns\n",
    "        order_pd = pd.concat([order_pd_base, order_pd_new])\n",
    "        order_pd = order_pd[columns]\n",
    "        \n",
    "        # Save latest stData to pickle file and csv locally\n",
    "        order_pd.to_pickle(pklAdd_orders)\n",
    "        order_pd.to_csv(csvAddress_orders)\n",
    "    else:\n",
    "        print(\"Orderid {} not in open_orders\".format(orderid))\n",
    "        order_pd = None\n",
    "    return order_pd"
   ]
  },
  {
   "cell_type": "code",
   "execution_count": null,
   "metadata": {},
   "outputs": [],
   "source": [
    "def submit_order(resolved_ibcontract, action, shares, price, order_type, orderid, tif='GTC'):\n",
    "    \"\"\"\n",
    "        Submits an order to IB API.\n",
    "\n",
    "    Args:\n",
    "        resolved_ibcontract: IBContract, must be fully resolved\n",
    "        action: str, options: 'BUY', 'SELL'\n",
    "        shares: int\n",
    "        price: double\n",
    "        order_type: str, options: 'MKT', 'LMT', etc.\n",
    "        orderid: int, identifies which orderid to assign\n",
    "        tif (optional): Time-in-force. Defaults to 'GTC'.\n",
    "\n",
    "    Returns:\n",
    "        Returns the orderid used for this order\n",
    "\n",
    "    Raises:\n",
    "        None\n",
    "    \"\"\"\n",
    "    \n",
    "    # Submit order instructions to IB server\n",
    "    currOrder = ib.Order()\n",
    "    currOrder.action = action\n",
    "    currOrder.orderType = order_type\n",
    "    currOrder.totalQuantity = shares\n",
    "    currOrder.lmtPrice = price\n",
    "    currOrder.tif = tif\n",
    "    currOrder.transmit = True\n",
    "    print(\"App is connected?: {}\".format(app.isConnected()))\n",
    "    currOrderId = app.place_new_IB_order(resolved_ibcontract, currOrder, orderid=orderid)\n",
    "    print(\"Placed order, orderid is %d\" % currOrderId)\n",
    "    \n",
    "    return currOrderId"
   ]
  },
  {
   "cell_type": "markdown",
   "metadata": {},
   "source": [
    "## Getting executions and commission"
   ]
  },
  {
   "cell_type": "code",
   "execution_count": null,
   "metadata": {},
   "outputs": [],
   "source": [
    "# Building up sell order\n",
    "\n",
    "orderid = increment_order_no(orderid)\n",
    "submit_order(resolved_ibcontract=resolved_ibcontract, action=\"BUY\", shares=1, price=150, order_type=\"LMT\", orderid=orderid, tif=\"GTC\")\n",
    "add_order_entry(orderid)"
   ]
  },
  {
   "cell_type": "code",
   "execution_count": null,
   "metadata": {},
   "outputs": [],
   "source": [
    "symbols = {}\n",
    "for index, row in order_history.iterrows():\n",
    "    symbols[index] = row.contract.symbol\n",
    "order_history = pd.concat([order_history, pd.Series(symbols, name='symbol')], axis=1)"
   ]
  },
  {
   "cell_type": "code",
   "execution_count": null,
   "metadata": {},
   "outputs": [],
   "source": [
    "for symbol in positions.symbol:\n",
    "    if symbol in order_history.contract:\n",
    "        print (position)"
   ]
  },
  {
   "cell_type": "code",
   "execution_count": null,
   "metadata": {},
   "outputs": [],
   "source": [
    "positions.contract[0]\n",
    "order_history.contract"
   ]
  },
  {
   "cell_type": "code",
   "execution_count": null,
   "metadata": {},
   "outputs": [],
   "source": [
    "positions = app.get_current_positions()"
   ]
  },
  {
   "cell_type": "code",
   "execution_count": 26,
   "metadata": {},
   "outputs": [],
   "source": [
    "def rebalance_sell_order(position_series):\n",
    "\n",
    "    # Receive positions Series from output of get_current_positions()\n",
    "    \n",
    "    StockShares = position_series.position\n",
    "    \n",
    "    # We have to re-resolve the contract based on the quote. Some risk in not identifying the same security. For some reason the saved Contract object in our positions DataFrame does not square up exactly with their resolved contract.\n",
    "    resolved_ibcontract = create_resolved_ibcontract(position_series.symbol)\n",
    "    CurrPrice = get_latest_price(resolved_ibcontract)\n",
    "    \n",
    "    CostBasis = float(position_series.avg_cost)\n",
    "    SellPrice = float(ib.make_div_by_05(CostBasis*SellFactor, buy=False))\n",
    "    \n",
    "    stock = resolved_ibcontract.symbol\n",
    "    today = datetime.datetime.now()\n",
    "\n",
    "    # If the position is held for less than 2 business days, don't sell it.\n",
    "    #TODO: Need to double check the BDay logic holds given the timezone naive datetime objects. Since trading hours extend into midnight China time, this might affect the logic here.\n",
    "    if (position_series.bought_datetime + BDay(2) > today):\n",
    "        pass\n",
    "    \n",
    "    # If we're past the fireSaleAge, and the CurrPrice is below the fireSalePrice or the CostBasis is higher than the CurrPrice, then place a sell order\n",
    "    elif (\n",
    "        position_series.bought_datetime + BDay(fireSaleAge) < today \n",
    "        and (\n",
    "            fireSalePrice>CurrPrice\n",
    "            or CostBasis>CurrPrice\n",
    "            )\n",
    "        ):\n",
    "        SellPrice = float(ib.make_div_by_05(.95*CurrPrice, buy=False))\n",
    "        print(\"Selling {}, \\tshares: {}, \\tprice: {}\".format(stock, StockShares, SellPrice))\n",
    "        orderid = app.submit_order(resolved_ibcontract=resolved_ibcontract, action=\"SELL\", shares=StockShares, price=SellPrice, order_type=\"LMT\", orderid=None, tif=\"GTC\")\n",
    "    else:\n",
    "        print(\"Selling {}, \\tshares: {}, \\tprice: {}\".format(stock, StockShares, SellPrice))\n",
    "        orderid = app.submit_order(resolved_ibcontract=resolved_ibcontract, action=\"SELL\", shares=StockShares, price=SellPrice, order_type=\"LMT\", orderid=None, tif=\"GTC\")\n",
    "        \n",
    "    return orderid"
   ]
  },
  {
   "cell_type": "code",
   "execution_count": 17,
   "metadata": {},
   "outputs": [
    {
     "data": {
      "text/html": [
       "<div>\n",
       "<style scoped>\n",
       "    .dataframe tbody tr th:only-of-type {\n",
       "        vertical-align: middle;\n",
       "    }\n",
       "\n",
       "    .dataframe tbody tr th {\n",
       "        vertical-align: top;\n",
       "    }\n",
       "\n",
       "    .dataframe thead th {\n",
       "        text-align: right;\n",
       "    }\n",
       "</style>\n",
       "<table border=\"1\" class=\"dataframe\">\n",
       "  <thead>\n",
       "    <tr style=\"text-align: right;\">\n",
       "      <th></th>\n",
       "      <th>account</th>\n",
       "      <th>position</th>\n",
       "      <th>avg_cost</th>\n",
       "      <th>comboLegs</th>\n",
       "      <th>comboLegsDescrip</th>\n",
       "      <th>conId</th>\n",
       "      <th>currency</th>\n",
       "      <th>deltaNeutralContract</th>\n",
       "      <th>exchange</th>\n",
       "      <th>includeExpired</th>\n",
       "      <th>...</th>\n",
       "      <th>multiplier</th>\n",
       "      <th>primaryExchange</th>\n",
       "      <th>right</th>\n",
       "      <th>secId</th>\n",
       "      <th>secIdType</th>\n",
       "      <th>secType</th>\n",
       "      <th>strike</th>\n",
       "      <th>symbol</th>\n",
       "      <th>tradingClass</th>\n",
       "      <th>bought_datetime</th>\n",
       "    </tr>\n",
       "  </thead>\n",
       "  <tbody>\n",
       "    <tr>\n",
       "      <th>0</th>\n",
       "      <td>U9509931</td>\n",
       "      <td>90.0</td>\n",
       "      <td>6.261111</td>\n",
       "      <td>None</td>\n",
       "      <td></td>\n",
       "      <td>324062330</td>\n",
       "      <td>USD</td>\n",
       "      <td>None</td>\n",
       "      <td>NASDAQ</td>\n",
       "      <td>False</td>\n",
       "      <td>...</td>\n",
       "      <td></td>\n",
       "      <td></td>\n",
       "      <td></td>\n",
       "      <td></td>\n",
       "      <td></td>\n",
       "      <td>STK</td>\n",
       "      <td>0.0</td>\n",
       "      <td>TBIO</td>\n",
       "      <td>NMS</td>\n",
       "      <td>2018-11-14 00:04:37</td>\n",
       "    </tr>\n",
       "    <tr>\n",
       "      <th>1</th>\n",
       "      <td>U9509931</td>\n",
       "      <td>103.0</td>\n",
       "      <td>19.359709</td>\n",
       "      <td>None</td>\n",
       "      <td></td>\n",
       "      <td>327422071</td>\n",
       "      <td>USD</td>\n",
       "      <td>None</td>\n",
       "      <td>NASDAQ</td>\n",
       "      <td>False</td>\n",
       "      <td>...</td>\n",
       "      <td></td>\n",
       "      <td></td>\n",
       "      <td></td>\n",
       "      <td></td>\n",
       "      <td></td>\n",
       "      <td>STK</td>\n",
       "      <td>0.0</td>\n",
       "      <td>LQDA</td>\n",
       "      <td>SCM</td>\n",
       "      <td>2018-11-14 01:52:41</td>\n",
       "    </tr>\n",
       "    <tr>\n",
       "      <th>2</th>\n",
       "      <td>U9509931</td>\n",
       "      <td>264.0</td>\n",
       "      <td>7.555000</td>\n",
       "      <td>None</td>\n",
       "      <td></td>\n",
       "      <td>322592376</td>\n",
       "      <td>USD</td>\n",
       "      <td>None</td>\n",
       "      <td>NASDAQ</td>\n",
       "      <td>False</td>\n",
       "      <td>...</td>\n",
       "      <td></td>\n",
       "      <td></td>\n",
       "      <td></td>\n",
       "      <td></td>\n",
       "      <td></td>\n",
       "      <td>STK</td>\n",
       "      <td>0.0</td>\n",
       "      <td>MGTA</td>\n",
       "      <td>NMS</td>\n",
       "      <td>2018-11-14 01:48:38</td>\n",
       "    </tr>\n",
       "    <tr>\n",
       "      <th>3</th>\n",
       "      <td>U9509931</td>\n",
       "      <td>232.0</td>\n",
       "      <td>8.600000</td>\n",
       "      <td>None</td>\n",
       "      <td></td>\n",
       "      <td>329820282</td>\n",
       "      <td>USD</td>\n",
       "      <td>None</td>\n",
       "      <td>NASDAQ</td>\n",
       "      <td>False</td>\n",
       "      <td>...</td>\n",
       "      <td></td>\n",
       "      <td></td>\n",
       "      <td></td>\n",
       "      <td></td>\n",
       "      <td></td>\n",
       "      <td>STK</td>\n",
       "      <td>0.0</td>\n",
       "      <td>SIC</td>\n",
       "      <td>SCM</td>\n",
       "      <td>2018-11-14 01:46:32</td>\n",
       "    </tr>\n",
       "    <tr>\n",
       "      <th>4</th>\n",
       "      <td>U9509931</td>\n",
       "      <td>243.0</td>\n",
       "      <td>8.205000</td>\n",
       "      <td>None</td>\n",
       "      <td></td>\n",
       "      <td>294729588</td>\n",
       "      <td>USD</td>\n",
       "      <td>None</td>\n",
       "      <td>NASDAQ</td>\n",
       "      <td>False</td>\n",
       "      <td>...</td>\n",
       "      <td></td>\n",
       "      <td></td>\n",
       "      <td></td>\n",
       "      <td></td>\n",
       "      <td></td>\n",
       "      <td>STK</td>\n",
       "      <td>0.0</td>\n",
       "      <td>ALNA</td>\n",
       "      <td>NMS</td>\n",
       "      <td>2018-11-13 23:53:21</td>\n",
       "    </tr>\n",
       "    <tr>\n",
       "      <th>5</th>\n",
       "      <td>U9509931</td>\n",
       "      <td>110.0</td>\n",
       "      <td>18.059091</td>\n",
       "      <td>None</td>\n",
       "      <td></td>\n",
       "      <td>319099329</td>\n",
       "      <td>USD</td>\n",
       "      <td>None</td>\n",
       "      <td>NASDAQ</td>\n",
       "      <td>False</td>\n",
       "      <td>...</td>\n",
       "      <td></td>\n",
       "      <td></td>\n",
       "      <td></td>\n",
       "      <td></td>\n",
       "      <td></td>\n",
       "      <td>STK</td>\n",
       "      <td>0.0</td>\n",
       "      <td>KNSA</td>\n",
       "      <td>NMS</td>\n",
       "      <td>2018-11-14 00:08:04</td>\n",
       "    </tr>\n",
       "    <tr>\n",
       "      <th>6</th>\n",
       "      <td>U9509931</td>\n",
       "      <td>200.0</td>\n",
       "      <td>5.455000</td>\n",
       "      <td>None</td>\n",
       "      <td></td>\n",
       "      <td>310624804</td>\n",
       "      <td>USD</td>\n",
       "      <td>None</td>\n",
       "      <td>NASDAQ</td>\n",
       "      <td>False</td>\n",
       "      <td>...</td>\n",
       "      <td></td>\n",
       "      <td></td>\n",
       "      <td></td>\n",
       "      <td></td>\n",
       "      <td></td>\n",
       "      <td>STK</td>\n",
       "      <td>0.0</td>\n",
       "      <td>LAZY</td>\n",
       "      <td>SCM</td>\n",
       "      <td>2018-11-14 00:04:11</td>\n",
       "    </tr>\n",
       "    <tr>\n",
       "      <th>7</th>\n",
       "      <td>U9509931</td>\n",
       "      <td>128244.0</td>\n",
       "      <td>1.352587</td>\n",
       "      <td>None</td>\n",
       "      <td></td>\n",
       "      <td>37928772</td>\n",
       "      <td>SGD</td>\n",
       "      <td>None</td>\n",
       "      <td></td>\n",
       "      <td>False</td>\n",
       "      <td>...</td>\n",
       "      <td></td>\n",
       "      <td></td>\n",
       "      <td></td>\n",
       "      <td></td>\n",
       "      <td></td>\n",
       "      <td>CASH</td>\n",
       "      <td>0.0</td>\n",
       "      <td>USD</td>\n",
       "      <td>USD.SGD</td>\n",
       "      <td>NaT</td>\n",
       "    </tr>\n",
       "  </tbody>\n",
       "</table>\n",
       "<p>8 rows × 22 columns</p>\n",
       "</div>"
      ],
      "text/plain": [
       "    account  position   avg_cost comboLegs comboLegsDescrip      conId  \\\n",
       "0  U9509931      90.0   6.261111      None                   324062330   \n",
       "1  U9509931     103.0  19.359709      None                   327422071   \n",
       "2  U9509931     264.0   7.555000      None                   322592376   \n",
       "3  U9509931     232.0   8.600000      None                   329820282   \n",
       "4  U9509931     243.0   8.205000      None                   294729588   \n",
       "5  U9509931     110.0  18.059091      None                   319099329   \n",
       "6  U9509931     200.0   5.455000      None                   310624804   \n",
       "7  U9509931  128244.0   1.352587      None                    37928772   \n",
       "\n",
       "  currency deltaNeutralContract exchange  includeExpired         ...          \\\n",
       "0      USD                 None   NASDAQ           False         ...           \n",
       "1      USD                 None   NASDAQ           False         ...           \n",
       "2      USD                 None   NASDAQ           False         ...           \n",
       "3      USD                 None   NASDAQ           False         ...           \n",
       "4      USD                 None   NASDAQ           False         ...           \n",
       "5      USD                 None   NASDAQ           False         ...           \n",
       "6      USD                 None   NASDAQ           False         ...           \n",
       "7      SGD                 None                    False         ...           \n",
       "\n",
       "  multiplier primaryExchange right secId secIdType secType strike symbol  \\\n",
       "0                                                      STK    0.0   TBIO   \n",
       "1                                                      STK    0.0   LQDA   \n",
       "2                                                      STK    0.0   MGTA   \n",
       "3                                                      STK    0.0    SIC   \n",
       "4                                                      STK    0.0   ALNA   \n",
       "5                                                      STK    0.0   KNSA   \n",
       "6                                                      STK    0.0   LAZY   \n",
       "7                                                     CASH    0.0    USD   \n",
       "\n",
       "   tradingClass     bought_datetime  \n",
       "0           NMS 2018-11-14 00:04:37  \n",
       "1           SCM 2018-11-14 01:52:41  \n",
       "2           NMS 2018-11-14 01:48:38  \n",
       "3           SCM 2018-11-14 01:46:32  \n",
       "4           NMS 2018-11-13 23:53:21  \n",
       "5           NMS 2018-11-14 00:08:04  \n",
       "6           SCM 2018-11-14 00:04:11  \n",
       "7       USD.SGD                 NaT  \n",
       "\n",
       "[8 rows x 22 columns]"
      ]
     },
     "execution_count": 17,
     "metadata": {},
     "output_type": "execute_result"
    }
   ],
   "source": [
    "positions = app.get_current_positions()\n",
    "positions"
   ]
  },
  {
   "cell_type": "code",
   "execution_count": 27,
   "metadata": {},
   "outputs": [
    {
     "name": "stdout",
     "output_type": "stream",
     "text": [
      "Getting full contract details from the server... \n",
      "got multiple contracts using first one\n",
      "324062330,TBIO,STK,,0.0,,,SMART,NASDAQ,USD,TBIO,NMS,False,,combo:\n"
     ]
    },
    {
     "data": {
      "text/html": [
       "<div>\n",
       "<style scoped>\n",
       "    .dataframe tbody tr th:only-of-type {\n",
       "        vertical-align: middle;\n",
       "    }\n",
       "\n",
       "    .dataframe tbody tr th {\n",
       "        vertical-align: top;\n",
       "    }\n",
       "\n",
       "    .dataframe thead th {\n",
       "        text-align: right;\n",
       "    }\n",
       "</style>\n",
       "<table border=\"1\" class=\"dataframe\">\n",
       "  <thead>\n",
       "    <tr style=\"text-align: right;\">\n",
       "      <th></th>\n",
       "      <th>ask_price</th>\n",
       "      <th>ask_size</th>\n",
       "      <th>bid_price</th>\n",
       "      <th>bid_size</th>\n",
       "      <th>last_trade_price</th>\n",
       "      <th>last_trade_size</th>\n",
       "    </tr>\n",
       "  </thead>\n",
       "  <tbody>\n",
       "    <tr>\n",
       "      <th>2018-11-19 01:52:54</th>\n",
       "      <td>-1.0</td>\n",
       "      <td>0.0</td>\n",
       "      <td>-1.0</td>\n",
       "      <td>0.0</td>\n",
       "      <td>NaN</td>\n",
       "      <td>0.0</td>\n",
       "    </tr>\n",
       "  </tbody>\n",
       "</table>\n",
       "</div>"
      ],
      "text/plain": [
       "                     ask_price  ask_size  bid_price  bid_size  \\\n",
       "2018-11-19 01:52:54       -1.0       0.0       -1.0       0.0   \n",
       "\n",
       "                     last_trade_price  last_trade_size  \n",
       "2018-11-19 01:52:54               NaN              0.0  "
      ]
     },
     "metadata": {},
     "output_type": "display_data"
    },
    {
     "name": "stdout",
     "output_type": "stream",
     "text": [
      "nan\n",
      "Selling TBIO, \tshares: 90.0, \tprice: 6.35\n",
      "App is connected?: True\n",
      "Getting orderid from IB\n",
      "Using order id of 18\n",
      "Placed order, orderid is 18\n"
     ]
    },
    {
     "data": {
      "text/plain": [
       "18"
      ]
     },
     "execution_count": 27,
     "metadata": {},
     "output_type": "execute_result"
    }
   ],
   "source": [
    "i = 0\n",
    "rebalance_sell_order(positions.loc[i])"
   ]
  },
  {
   "cell_type": "code",
   "execution_count": null,
   "metadata": {},
   "outputs": [],
   "source": [
    "def rebalance_all_sell_orders():\n",
    "\n",
    "    positions = app.get_current_positions()\n",
    "\n",
    "    # Get list of open sell orders\n",
    "    open_sell_orders = get_open_sell_orders()\n",
    "\n",
    "    # Review if limit sell order exists for every position    \n",
    "    for i, position in positions.iterrows():\n",
    "\n",
    "        # Check if stock has a existing limit sell order. If not, add one\n",
    "        # TODO: Also check that the position is not 'USD'\n",
    "        if not open_sell_orders(stock):\n",
    "            rebalance_sell_order(position)"
   ]
  },
  {
   "cell_type": "code",
   "execution_count": null,
   "metadata": {},
   "outputs": [],
   "source": [
    "## lets get positions\n",
    "positions_list = app.get_current_positions()\n",
    "print(positions_list)\n",
    "\n",
    "## get the account name from the position\n",
    "## normally you would know your account name\n",
    "accountName = positions_list.account[0]\n",
    "\n",
    "## and accounting information\n",
    "accounting_values = app.get_accounting_values(accountName)\n",
    "print(accounting_values)\n",
    "\n",
    "## these values are cached\n",
    "## if we ask again in more than 5 minutes it will update everything\n",
    "accounting_updates = app.get_accounting_updates(accountName)\n",
    "print(accounting_updates)\n",
    "\n",
    "# TODO: solve this error below\n",
    "'''\n",
    "  File \"/Users/chingaling/Documents/Algo Trading/BroCodePC/IB_API_tutorial.py\", line 380, in updateAccountTime\n",
    "    self._my_accounts[accountName].put(data)\n",
    "NameError: name 'accountName' is not defined\n",
    "'''"
   ]
  },
  {
   "cell_type": "code",
   "execution_count": null,
   "metadata": {},
   "outputs": [],
   "source": [
    "def positions_list_pd(positions_list):\n",
    "    columns = ['account', 'contract', 'position', 'avg_cost']\n",
    "    positions_list_pd = pd.DataFrame(positions_list, columns=columns)\n",
    "    return positions_list_pd"
   ]
  },
  {
   "cell_type": "code",
   "execution_count": null,
   "metadata": {
    "scrolled": true
   },
   "outputs": [],
   "source": [
    "accounting_values"
   ]
  },
  {
   "cell_type": "code",
   "execution_count": null,
   "metadata": {},
   "outputs": [],
   "source": [
    "accounting_updates[0]"
   ]
  },
  {
   "cell_type": "code",
   "execution_count": null,
   "metadata": {},
   "outputs": [],
   "source": [
    "# Re-balancing method from 30_stock algo every 10 minutes. Buy order cycles through list of 100 stock selected each day.\n",
    "\n",
    "def my_rebalance(context, data):\n",
    "    buyFactor=.99\n",
    "    SellFactor=1.01\n",
    "    cash=context.portfolio.cash\n",
    "\n",
    "    cancel_open_buy_orders(context, data)\n",
    "\n",
    "    # Order sell at profit target in hope that somebody actually buys it\n",
    "    for stock in context.portfolio.positions:\n",
    "        if not get_open_orders(stock):\n",
    "            StockShares = context.portfolio.positions[stock].amount\n",
    "            CurrPrice = float(data.current([stock], 'price'))\n",
    "            CostBasis = float(context.portfolio.positions[stock].cost_basis)\n",
    "            SellPrice = float(make_div_by_05(CostBasis*SellFactor, buy=False))\n",
    "            \n",
    "            \n",
    "            if np.isnan(SellPrice) :\n",
    "                pass # probably best to wait until nan goes away\n",
    "            elif (stock in context.age and context.age[stock] == 1) :\n",
    "                pass\n",
    "            elif (\n",
    "                stock in context.age \n",
    "                and context.MyFireSaleAge<=context.age[stock] \n",
    "                and (\n",
    "                    context.MyFireSalePrice>CurrPrice\n",
    "                    or CostBasis>CurrPrice\n",
    "                )\n",
    "            ):\n",
    "                if (stock in context.age and context.age[stock] < 2) :\n",
    "                    pass\n",
    "                elif stock not in context.age:\n",
    "                    context.age[stock] = 1\n",
    "                else:\n",
    "                    SellPrice = float(make_div_by_05(.95*CurrPrice, buy=False))\n",
    "                    print(\"Selling {}, \\tshares: {}, \\tprice: {}\".format(stock, StockShares, SellPrice))\n",
    "                    order(stock, -StockShares,\n",
    "                        style=LimitOrder(SellPrice)\n",
    "                    )\n",
    "            else:\n",
    "                if (stock in context.age and context.age[stock] < 2) :\n",
    "                    pass\n",
    "                elif stock not in context.age:\n",
    "                    context.age[stock] = 1\n",
    "                else:\n",
    "                    print(\"Selling {}, \\tshares: {}, \\tprice: {}\".format(stock, StockShares, SellPrice))\n",
    "                    order(stock, -StockShares,\n",
    "                        style=LimitOrder(SellPrice)\n",
    "                    )\n",
    "\n",
    "    WeightThisBuyOrder=float(1.00/context.maxBuyOrdersAtOnce)\n",
    "    for ThisBuyOrder in range(context.maxBuyOrdersAtOnce):\n",
    "        stock = next(context.MyCandidate)\n",
    "        PH = data.history([stock], 'price', 20, '1d')\n",
    "        PH_Avg = float(PH.mean())\n",
    "        CurrPrice = float(data.current([stock], 'price'))\n",
    "        if np.isnan(CurrPrice):\n",
    "            pass # probably best to wait until nan goes away\n",
    "        else:\n",
    "            if CurrPrice > float(1.25*PH_Avg):\n",
    "                BuyPrice=float(CurrPrice)\n",
    "            else:\n",
    "                BuyPrice=float(CurrPrice*buyFactor)\n",
    "            BuyPrice=float(make_div_by_05(BuyPrice, buy=True))\n",
    "            StockShares = int(WeightThisBuyOrder*cash/BuyPrice)\n",
    "            #print(\"Buying {}, \\tshares: {}, \\tprice: {}\".format(stock, StockShares, BuyPrice))\n",
    "            order(stock, StockShares,\n",
    "                style=LimitOrder(BuyPrice)\n",
    "            )"
   ]
  },
  {
   "cell_type": "markdown",
   "metadata": {},
   "source": [
    "## Lesson 1: Create a connection with IB API\n",
    "https://qoppac.blogspot.com/2017/03/interactive-brokers-native-python-api.html\n",
    "\n",
    "## Lesson 2: Get historic data\n",
    "https://qoppac.blogspot.com/2017/03/historic-data-from-native-ib-pyhon-api.html\n",
    "\n",
    "## Lesson 3: Get streaming data\n",
    "https://qoppac.blogspot.com/2017/03/streaming-market-data-from-native.html\n",
    "\n",
    "## Lesson 4: Creating orders\n",
    "https://qoppac.blogspot.com/2017/03/placing-orders-in-native-python-ib-api.html\n",
    "\n",
    "## Lesson 5: Getting portfolio positions and account info\n",
    "https://qoppac.blogspot.com/2017/03/getting-position-and-accounting-data.html"
   ]
  }
 ],
 "metadata": {
  "kernelspec": {
   "display_name": "Python 3",
   "language": "python",
   "name": "python3"
  },
  "language_info": {
   "codemirror_mode": {
    "name": "ipython",
    "version": 3
   },
   "file_extension": ".py",
   "mimetype": "text/x-python",
   "name": "python",
   "nbconvert_exporter": "python",
   "pygments_lexer": "ipython3",
   "version": "3.5.5"
  }
 },
 "nbformat": 4,
 "nbformat_minor": 2
}
